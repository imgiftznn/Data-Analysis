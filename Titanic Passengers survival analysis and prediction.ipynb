{
 "cells": [
  {
   "cell_type": "markdown",
   "id": "610e5e02",
   "metadata": {
    "papermill": {
     "duration": 0.062043,
     "end_time": "2021-10-12T23:25:27.972148",
     "exception": false,
     "start_time": "2021-10-12T23:25:27.910105",
     "status": "completed"
    },
    "tags": []
   },
   "source": [
    "### Importing the needed liberaries"
   ]
  },
  {
   "cell_type": "code",
   "execution_count": 1,
   "id": "46d749a9",
   "metadata": {
    "_cell_guid": "b1076dfc-b9ad-4769-8c92-a6c4dae69d19",
    "_uuid": "8f2839f25d086af736a60e9eeb907d3b93b6e0e5",
    "execution": {
     "iopub.execute_input": "2021-10-12T23:25:28.096971Z",
     "iopub.status.busy": "2021-10-12T23:25:28.095791Z",
     "iopub.status.idle": "2021-10-12T23:25:28.110297Z",
     "shell.execute_reply": "2021-10-12T23:25:28.111202Z",
     "shell.execute_reply.started": "2021-10-12T22:52:23.989712Z"
    },
    "papermill": {
     "duration": 0.078439,
     "end_time": "2021-10-12T23:25:28.111666",
     "exception": false,
     "start_time": "2021-10-12T23:25:28.033227",
     "status": "completed"
    },
    "tags": []
   },
   "outputs": [
    {
     "name": "stdout",
     "output_type": "stream",
     "text": [
      "/kaggle/input/titanic/train.csv\n",
      "/kaggle/input/titanic/test.csv\n",
      "/kaggle/input/titanic/gender_submission.csv\n"
     ]
    }
   ],
   "source": [
    "import numpy as np \n",
    "import pandas as pd \n",
    "import os\n",
    "for dirname, _, filenames in os.walk('/kaggle/input'):\n",
    "    for filename in filenames:\n",
    "        print(os.path.join(dirname, filename))"
   ]
  },
  {
   "cell_type": "code",
   "execution_count": 2,
   "id": "c5c659bf",
   "metadata": {
    "execution": {
     "iopub.execute_input": "2021-10-12T23:25:28.232232Z",
     "iopub.status.busy": "2021-10-12T23:25:28.231567Z",
     "iopub.status.idle": "2021-10-12T23:25:28.255253Z",
     "shell.execute_reply": "2021-10-12T23:25:28.255816Z",
     "shell.execute_reply.started": "2021-10-12T22:54:24.737302Z"
    },
    "papermill": {
     "duration": 0.084472,
     "end_time": "2021-10-12T23:25:28.256046",
     "exception": false,
     "start_time": "2021-10-12T23:25:28.171574",
     "status": "completed"
    },
    "tags": []
   },
   "outputs": [],
   "source": [
    "# the dataset\n",
    "df_train=pd.read_csv('../input/titanic/train.csv')\n"
   ]
  },
  {
   "cell_type": "markdown",
   "id": "4c65ae25",
   "metadata": {
    "papermill": {
     "duration": 0.059564,
     "end_time": "2021-10-12T23:25:28.374046",
     "exception": false,
     "start_time": "2021-10-12T23:25:28.314482",
     "status": "completed"
    },
    "tags": []
   },
   "source": [
    "### (EDA) Eploratory Data Analysis"
   ]
  },
  {
   "cell_type": "code",
   "execution_count": 3,
   "id": "b559818b",
   "metadata": {
    "execution": {
     "iopub.execute_input": "2021-10-12T23:25:28.499485Z",
     "iopub.status.busy": "2021-10-12T23:25:28.498645Z",
     "iopub.status.idle": "2021-10-12T23:25:28.519929Z",
     "shell.execute_reply": "2021-10-12T23:25:28.520442Z",
     "shell.execute_reply.started": "2021-10-12T22:40:52.147627Z"
    },
    "papermill": {
     "duration": 0.088413,
     "end_time": "2021-10-12T23:25:28.520660",
     "exception": false,
     "start_time": "2021-10-12T23:25:28.432247",
     "status": "completed"
    },
    "tags": []
   },
   "outputs": [
    {
     "data": {
      "text/html": [
       "<div>\n",
       "<style scoped>\n",
       "    .dataframe tbody tr th:only-of-type {\n",
       "        vertical-align: middle;\n",
       "    }\n",
       "\n",
       "    .dataframe tbody tr th {\n",
       "        vertical-align: top;\n",
       "    }\n",
       "\n",
       "    .dataframe thead th {\n",
       "        text-align: right;\n",
       "    }\n",
       "</style>\n",
       "<table border=\"1\" class=\"dataframe\">\n",
       "  <thead>\n",
       "    <tr style=\"text-align: right;\">\n",
       "      <th></th>\n",
       "      <th>PassengerId</th>\n",
       "      <th>Survived</th>\n",
       "      <th>Pclass</th>\n",
       "      <th>Name</th>\n",
       "      <th>Sex</th>\n",
       "      <th>Age</th>\n",
       "      <th>SibSp</th>\n",
       "      <th>Parch</th>\n",
       "      <th>Ticket</th>\n",
       "      <th>Fare</th>\n",
       "      <th>Cabin</th>\n",
       "      <th>Embarked</th>\n",
       "    </tr>\n",
       "  </thead>\n",
       "  <tbody>\n",
       "    <tr>\n",
       "      <th>0</th>\n",
       "      <td>1</td>\n",
       "      <td>0</td>\n",
       "      <td>3</td>\n",
       "      <td>Braund, Mr. Owen Harris</td>\n",
       "      <td>male</td>\n",
       "      <td>22.0</td>\n",
       "      <td>1</td>\n",
       "      <td>0</td>\n",
       "      <td>A/5 21171</td>\n",
       "      <td>7.2500</td>\n",
       "      <td>NaN</td>\n",
       "      <td>S</td>\n",
       "    </tr>\n",
       "    <tr>\n",
       "      <th>1</th>\n",
       "      <td>2</td>\n",
       "      <td>1</td>\n",
       "      <td>1</td>\n",
       "      <td>Cumings, Mrs. John Bradley (Florence Briggs Th...</td>\n",
       "      <td>female</td>\n",
       "      <td>38.0</td>\n",
       "      <td>1</td>\n",
       "      <td>0</td>\n",
       "      <td>PC 17599</td>\n",
       "      <td>71.2833</td>\n",
       "      <td>C85</td>\n",
       "      <td>C</td>\n",
       "    </tr>\n",
       "    <tr>\n",
       "      <th>2</th>\n",
       "      <td>3</td>\n",
       "      <td>1</td>\n",
       "      <td>3</td>\n",
       "      <td>Heikkinen, Miss. Laina</td>\n",
       "      <td>female</td>\n",
       "      <td>26.0</td>\n",
       "      <td>0</td>\n",
       "      <td>0</td>\n",
       "      <td>STON/O2. 3101282</td>\n",
       "      <td>7.9250</td>\n",
       "      <td>NaN</td>\n",
       "      <td>S</td>\n",
       "    </tr>\n",
       "    <tr>\n",
       "      <th>3</th>\n",
       "      <td>4</td>\n",
       "      <td>1</td>\n",
       "      <td>1</td>\n",
       "      <td>Futrelle, Mrs. Jacques Heath (Lily May Peel)</td>\n",
       "      <td>female</td>\n",
       "      <td>35.0</td>\n",
       "      <td>1</td>\n",
       "      <td>0</td>\n",
       "      <td>113803</td>\n",
       "      <td>53.1000</td>\n",
       "      <td>C123</td>\n",
       "      <td>S</td>\n",
       "    </tr>\n",
       "    <tr>\n",
       "      <th>4</th>\n",
       "      <td>5</td>\n",
       "      <td>0</td>\n",
       "      <td>3</td>\n",
       "      <td>Allen, Mr. William Henry</td>\n",
       "      <td>male</td>\n",
       "      <td>35.0</td>\n",
       "      <td>0</td>\n",
       "      <td>0</td>\n",
       "      <td>373450</td>\n",
       "      <td>8.0500</td>\n",
       "      <td>NaN</td>\n",
       "      <td>S</td>\n",
       "    </tr>\n",
       "  </tbody>\n",
       "</table>\n",
       "</div>"
      ],
      "text/plain": [
       "   PassengerId  Survived  Pclass  \\\n",
       "0            1         0       3   \n",
       "1            2         1       1   \n",
       "2            3         1       3   \n",
       "3            4         1       1   \n",
       "4            5         0       3   \n",
       "\n",
       "                                                Name     Sex   Age  SibSp  \\\n",
       "0                            Braund, Mr. Owen Harris    male  22.0      1   \n",
       "1  Cumings, Mrs. John Bradley (Florence Briggs Th...  female  38.0      1   \n",
       "2                             Heikkinen, Miss. Laina  female  26.0      0   \n",
       "3       Futrelle, Mrs. Jacques Heath (Lily May Peel)  female  35.0      1   \n",
       "4                           Allen, Mr. William Henry    male  35.0      0   \n",
       "\n",
       "   Parch            Ticket     Fare Cabin Embarked  \n",
       "0      0         A/5 21171   7.2500   NaN        S  \n",
       "1      0          PC 17599  71.2833   C85        C  \n",
       "2      0  STON/O2. 3101282   7.9250   NaN        S  \n",
       "3      0            113803  53.1000  C123        S  \n",
       "4      0            373450   8.0500   NaN        S  "
      ]
     },
     "execution_count": 3,
     "metadata": {},
     "output_type": "execute_result"
    }
   ],
   "source": [
    "df_train.head()"
   ]
  },
  {
   "cell_type": "code",
   "execution_count": 4,
   "id": "f08b368d",
   "metadata": {
    "execution": {
     "iopub.execute_input": "2021-10-12T23:25:28.645913Z",
     "iopub.status.busy": "2021-10-12T23:25:28.644812Z",
     "iopub.status.idle": "2021-10-12T23:25:28.667847Z",
     "shell.execute_reply": "2021-10-12T23:25:28.668390Z",
     "shell.execute_reply.started": "2021-10-12T22:40:55.431273Z"
    },
    "papermill": {
     "duration": 0.09016,
     "end_time": "2021-10-12T23:25:28.668628",
     "exception": false,
     "start_time": "2021-10-12T23:25:28.578468",
     "status": "completed"
    },
    "tags": []
   },
   "outputs": [
    {
     "name": "stdout",
     "output_type": "stream",
     "text": [
      "<class 'pandas.core.frame.DataFrame'>\n",
      "RangeIndex: 891 entries, 0 to 890\n",
      "Data columns (total 12 columns):\n",
      " #   Column       Non-Null Count  Dtype  \n",
      "---  ------       --------------  -----  \n",
      " 0   PassengerId  891 non-null    int64  \n",
      " 1   Survived     891 non-null    int64  \n",
      " 2   Pclass       891 non-null    int64  \n",
      " 3   Name         891 non-null    object \n",
      " 4   Sex          891 non-null    object \n",
      " 5   Age          714 non-null    float64\n",
      " 6   SibSp        891 non-null    int64  \n",
      " 7   Parch        891 non-null    int64  \n",
      " 8   Ticket       891 non-null    object \n",
      " 9   Fare         891 non-null    float64\n",
      " 10  Cabin        204 non-null    object \n",
      " 11  Embarked     889 non-null    object \n",
      "dtypes: float64(2), int64(5), object(5)\n",
      "memory usage: 83.7+ KB\n"
     ]
    }
   ],
   "source": [
    "df_train.info()"
   ]
  },
  {
   "cell_type": "markdown",
   "id": "ec89d34d",
   "metadata": {
    "papermill": {
     "duration": 0.058232,
     "end_time": "2021-10-12T23:25:28.786494",
     "exception": false,
     "start_time": "2021-10-12T23:25:28.728262",
     "status": "completed"
    },
    "tags": []
   },
   "source": [
    " there are missing values in the columns Age and cabin columns\n",
    " \n",
    " \n",
    " for more investigations :\n"
   ]
  },
  {
   "cell_type": "code",
   "execution_count": 5,
   "id": "07d6ec22",
   "metadata": {
    "execution": {
     "iopub.execute_input": "2021-10-12T23:25:28.908348Z",
     "iopub.status.busy": "2021-10-12T23:25:28.907658Z",
     "iopub.status.idle": "2021-10-12T23:25:29.946149Z",
     "shell.execute_reply": "2021-10-12T23:25:29.945464Z",
     "shell.execute_reply.started": "2021-10-12T22:40:57.061175Z"
    },
    "papermill": {
     "duration": 1.100737,
     "end_time": "2021-10-12T23:25:29.946301",
     "exception": false,
     "start_time": "2021-10-12T23:25:28.845564",
     "status": "completed"
    },
    "tags": []
   },
   "outputs": [],
   "source": [
    "import matplotlib.pyplot as plt\n",
    "import seaborn as sns\n",
    "sns.set()"
   ]
  },
  {
   "cell_type": "code",
   "execution_count": 6,
   "id": "cfb3e9bc",
   "metadata": {
    "execution": {
     "iopub.execute_input": "2021-10-12T23:25:30.071427Z",
     "iopub.status.busy": "2021-10-12T23:25:30.070717Z",
     "iopub.status.idle": "2021-10-12T23:25:30.373752Z",
     "shell.execute_reply": "2021-10-12T23:25:30.373196Z",
     "shell.execute_reply.started": "2021-10-12T22:40:58.041076Z"
    },
    "papermill": {
     "duration": 0.368816,
     "end_time": "2021-10-12T23:25:30.373905",
     "exception": false,
     "start_time": "2021-10-12T23:25:30.005089",
     "status": "completed"
    },
    "tags": []
   },
   "outputs": [
    {
     "data": {
      "image/png": "[encoded data removed]",
      "text/plain": [
       "<Figure size 432x288 with 1 Axes>"
      ]
     },
     "metadata": {},
     "output_type": "display_data"
    }
   ],
   "source": [
    "sns.heatmap(df_train.isnull(),yticklabels=False,cbar=False)\n",
    "\n",
    "plt.title('the missing values distribution in the data',fontsize=16)\n",
    "plt.show()"
   ]
  },
  {
   "cell_type": "markdown",
   "id": "6df05226",
   "metadata": {
    "papermill": {
     "duration": 0.05819,
     "end_time": "2021-10-12T23:25:30.490822",
     "exception": false,
     "start_time": "2021-10-12T23:25:30.432632",
     "status": "completed"
    },
    "tags": []
   },
   "source": [
    "the data in the column cabin is very big so we will drop it\n",
    "in the other hand the data in the column Age is small and will distributed in the data so we will try if we can fill it"
   ]
  },
  {
   "cell_type": "markdown",
   "id": "96ee78f4",
   "metadata": {
    "papermill": {
     "duration": 0.058799,
     "end_time": "2021-10-12T23:25:30.608003",
     "exception": false,
     "start_time": "2021-10-12T23:25:30.549204",
     "status": "completed"
    },
    "tags": []
   },
   "source": [
    "### Data Cleaning"
   ]
  },
  {
   "cell_type": "code",
   "execution_count": 7,
   "id": "1b9c7954",
   "metadata": {
    "execution": {
     "iopub.execute_input": "2021-10-12T23:25:30.736826Z",
     "iopub.status.busy": "2021-10-12T23:25:30.736047Z",
     "iopub.status.idle": "2021-10-12T23:25:30.738666Z",
     "shell.execute_reply": "2021-10-12T23:25:30.738114Z",
     "shell.execute_reply.started": "2021-10-12T22:40:58.305193Z"
    },
    "papermill": {
     "duration": 0.071164,
     "end_time": "2021-10-12T23:25:30.738828",
     "exception": false,
     "start_time": "2021-10-12T23:25:30.667664",
     "status": "completed"
    },
    "tags": []
   },
   "outputs": [],
   "source": [
    "# droping the column cabin\n",
    "df_witout_cabin=df_train.drop('Cabin',axis=1)"
   ]
  },
  {
   "cell_type": "code",
   "execution_count": 8,
   "id": "4f020d77",
   "metadata": {
    "execution": {
     "iopub.execute_input": "2021-10-12T23:25:30.863929Z",
     "iopub.status.busy": "2021-10-12T23:25:30.863192Z",
     "iopub.status.idle": "2021-10-12T23:25:30.865869Z",
     "shell.execute_reply": "2021-10-12T23:25:30.866345Z",
     "shell.execute_reply.started": "2021-10-12T22:40:58.320464Z"
    },
    "papermill": {
     "duration": 0.06811,
     "end_time": "2021-10-12T23:25:30.866556",
     "exception": false,
     "start_time": "2021-10-12T23:25:30.798446",
     "status": "completed"
    },
    "tags": []
   },
   "outputs": [
    {
     "data": {
      "text/plain": [
       "Index(['PassengerId', 'Survived', 'Pclass', 'Name', 'Sex', 'Age', 'SibSp',\n",
       "       'Parch', 'Ticket', 'Fare', 'Embarked'],\n",
       "      dtype='object')"
      ]
     },
     "execution_count": 8,
     "metadata": {},
     "output_type": "execute_result"
    }
   ],
   "source": [
    "#cheking for the rest of the columns\n",
    "df_witout_cabin.columns"
   ]
  },
  {
   "cell_type": "markdown",
   "id": "fcac1a24",
   "metadata": {
    "execution": {
     "iopub.execute_input": "2021-09-13T09:49:10.403053Z",
     "iopub.status.busy": "2021-09-13T09:49:10.402794Z",
     "iopub.status.idle": "2021-09-13T09:49:10.420015Z",
     "shell.execute_reply": "2021-09-13T09:49:10.418423Z",
     "shell.execute_reply.started": "2021-09-13T09:49:10.403024Z"
    },
    "papermill": {
     "duration": 0.059612,
     "end_time": "2021-10-12T23:25:30.989005",
     "exception": false,
     "start_time": "2021-10-12T23:25:30.929393",
     "status": "completed"
    },
    "tags": []
   },
   "source": [
    "we will expolre the relation between Age column \n",
    "and the rest of the data inorder to fill it or deciding to drop it "
   ]
  },
  {
   "cell_type": "code",
   "execution_count": 9,
   "id": "bb07535e",
   "metadata": {
    "execution": {
     "iopub.execute_input": "2021-10-12T23:25:31.118576Z",
     "iopub.status.busy": "2021-10-12T23:25:31.117908Z",
     "iopub.status.idle": "2021-10-12T23:25:31.120391Z",
     "shell.execute_reply": "2021-10-12T23:25:31.121043Z",
     "shell.execute_reply.started": "2021-10-12T23:00:06.064316Z"
    },
    "papermill": {
     "duration": 0.071242,
     "end_time": "2021-10-12T23:25:31.121235",
     "exception": false,
     "start_time": "2021-10-12T23:25:31.049993",
     "status": "completed"
    },
    "tags": []
   },
   "outputs": [
    {
     "data": {
      "text/plain": [
       "177"
      ]
     },
     "execution_count": 9,
     "metadata": {},
     "output_type": "execute_result"
    }
   ],
   "source": [
    "# we will count the percent of the missing values in order to know if the droping option is avliable for us\n",
    "df_witout_cabin['Age'].isnull().sum()"
   ]
  },
  {
   "cell_type": "code",
   "execution_count": 10,
   "id": "35651447",
   "metadata": {
    "execution": {
     "iopub.execute_input": "2021-10-12T23:25:31.244615Z",
     "iopub.status.busy": "2021-10-12T23:25:31.243921Z",
     "iopub.status.idle": "2021-10-12T23:25:31.248981Z",
     "shell.execute_reply": "2021-10-12T23:25:31.249526Z",
     "shell.execute_reply.started": "2021-10-12T22:40:58.979524Z"
    },
    "papermill": {
     "duration": 0.068817,
     "end_time": "2021-10-12T23:25:31.249718",
     "exception": false,
     "start_time": "2021-10-12T23:25:31.180901",
     "status": "completed"
    },
    "tags": []
   },
   "outputs": [
    {
     "data": {
      "text/plain": [
       "891"
      ]
     },
     "execution_count": 10,
     "metadata": {},
     "output_type": "execute_result"
    }
   ],
   "source": [
    "len(df_witout_cabin['Age'])"
   ]
  },
  {
   "cell_type": "code",
   "execution_count": 11,
   "id": "6a83a5b0",
   "metadata": {
    "execution": {
     "iopub.execute_input": "2021-10-12T23:25:31.371837Z",
     "iopub.status.busy": "2021-10-12T23:25:31.371213Z",
     "iopub.status.idle": "2021-10-12T23:25:31.375984Z",
     "shell.execute_reply": "2021-10-12T23:25:31.376483Z",
     "shell.execute_reply.started": "2021-10-12T22:40:59.262109Z"
    },
    "papermill": {
     "duration": 0.067682,
     "end_time": "2021-10-12T23:25:31.376662",
     "exception": false,
     "start_time": "2021-10-12T23:25:31.308980",
     "status": "completed"
    },
    "tags": []
   },
   "outputs": [
    {
     "data": {
      "text/plain": [
       "19.865319865319865"
      ]
     },
     "execution_count": 11,
     "metadata": {},
     "output_type": "execute_result"
    }
   ],
   "source": [
    "percent_of_nulls=177*100/891\n",
    "\n",
    "percent_of_nulls"
   ]
  },
  {
   "cell_type": "markdown",
   "id": "7a1af656",
   "metadata": {
    "papermill": {
     "duration": 0.05903,
     "end_time": "2021-10-12T23:25:31.495405",
     "exception": false,
     "start_time": "2021-10-12T23:25:31.436375",
     "status": "completed"
    },
    "tags": []
   },
   "source": [
    "the percent is greater than 5% so if we drop the null values in the Age column, then we will not be able to use it in our model unless we find a way to fillin the null values \n",
    "\n",
    "now we will explore the data;"
   ]
  },
  {
   "cell_type": "code",
   "execution_count": 12,
   "id": "5c213c9f",
   "metadata": {
    "execution": {
     "iopub.execute_input": "2021-10-12T23:25:31.622466Z",
     "iopub.status.busy": "2021-10-12T23:25:31.621800Z",
     "iopub.status.idle": "2021-10-12T23:25:31.872680Z",
     "shell.execute_reply": "2021-10-12T23:25:31.873186Z",
     "shell.execute_reply.started": "2021-10-12T22:40:59.931133Z"
    },
    "papermill": {
     "duration": 0.318199,
     "end_time": "2021-10-12T23:25:31.873379",
     "exception": false,
     "start_time": "2021-10-12T23:25:31.555180",
     "status": "completed"
    },
    "tags": []
   },
   "outputs": [
    {
     "data": {
      "text/plain": [
       "<AxesSubplot:xlabel='Sex', ylabel='Age'>"
      ]
     },
     "execution_count": 12,
     "metadata": {},
     "output_type": "execute_result"
    },
    {
     "data": {
      "image/png": "[encoded data removed]",
      "text/plain": [
       "<Figure size 432x288 with 1 Axes>"
      ]
     },
     "metadata": {},
     "output_type": "display_data"
    }
   ],
   "source": [
    "sns.boxplot(data=df_witout_cabin,y='Age',x='Sex')"
   ]
  },
  {
   "cell_type": "markdown",
   "id": "f199e14c",
   "metadata": {
    "papermill": {
     "duration": 0.061066,
     "end_time": "2021-10-12T23:25:31.998012",
     "exception": false,
     "start_time": "2021-10-12T23:25:31.936946",
     "status": "completed"
    },
    "tags": []
   },
   "source": [
    "thre is no relation between Age and SEX"
   ]
  },
  {
   "cell_type": "code",
   "execution_count": 13,
   "id": "84a64641",
   "metadata": {
    "execution": {
     "iopub.execute_input": "2021-10-12T23:25:32.126622Z",
     "iopub.status.busy": "2021-10-12T23:25:32.125870Z",
     "iopub.status.idle": "2021-10-12T23:25:33.231959Z",
     "shell.execute_reply": "2021-10-12T23:25:33.232471Z",
     "shell.execute_reply.started": "2021-10-12T22:41:00.375915Z"
    },
    "papermill": {
     "duration": 1.172122,
     "end_time": "2021-10-12T23:25:33.232684",
     "exception": false,
     "start_time": "2021-10-12T23:25:32.060562",
     "status": "completed"
    },
    "tags": []
   },
   "outputs": [
    {
     "data": {
      "text/plain": [
       "<seaborn.axisgrid.JointGrid at 0x7fb6e07cf3d0>"
      ]
     },
     "execution_count": 13,
     "metadata": {},
     "output_type": "execute_result"
    },
    {
     "data": {
      "image/png": "[encoded data removed]",
      "text/plain": [
       "<Figure size 432x432 with 3 Axes>"
      ]
     },
     "metadata": {},
     "output_type": "display_data"
    }
   ],
   "source": [
    "sns.jointplot(data=df_witout_cabin,x='Age',y='Fare',kind='hex')"
   ]
  },
  {
   "cell_type": "raw",
   "id": "3d26eb7e",
   "metadata": {
    "papermill": {
     "duration": 0.06458,
     "end_time": "2021-10-12T23:25:33.360637",
     "exception": false,
     "start_time": "2021-10-12T23:25:33.296057",
     "status": "completed"
    },
    "tags": []
   },
   "source": [
    "there is a relation between Age and Fare explains that most of younger people tend to buy cheaper ticket and most of the older people tend to buy more expensive tickets"
   ]
  },
  {
   "cell_type": "markdown",
   "id": "05f9dfc5",
   "metadata": {
    "papermill": {
     "duration": 0.063373,
     "end_time": "2021-10-12T23:25:33.487473",
     "exception": false,
     "start_time": "2021-10-12T23:25:33.424100",
     "status": "completed"
    },
    "tags": []
   },
   "source": []
  },
  {
   "cell_type": "code",
   "execution_count": 14,
   "id": "5be52027",
   "metadata": {
    "execution": {
     "iopub.execute_input": "2021-10-12T23:25:33.644881Z",
     "iopub.status.busy": "2021-10-12T23:25:33.621818Z",
     "iopub.status.idle": "2021-10-12T23:25:33.857810Z",
     "shell.execute_reply": "2021-10-12T23:25:33.858262Z",
     "shell.execute_reply.started": "2021-10-12T22:41:01.329827Z"
    },
    "papermill": {
     "duration": 0.307424,
     "end_time": "2021-10-12T23:25:33.858454",
     "exception": false,
     "start_time": "2021-10-12T23:25:33.551030",
     "status": "completed"
    },
    "tags": []
   },
   "outputs": [
    {
     "data": {
      "text/plain": [
       "<AxesSubplot:xlabel='Pclass', ylabel='Age'>"
      ]
     },
     "execution_count": 14,
     "metadata": {},
     "output_type": "execute_result"
    },
    {
     "data": {
      "image/png": "[encoded data removed]",
      "text/plain": [
       "<Figure size 432x288 with 1 Axes>"
      ]
     },
     "metadata": {},
     "output_type": "display_data"
    }
   ],
   "source": [
    "sns.boxplot(data=df_witout_cabin,y='Age',x='Pclass')"
   ]
  },
  {
   "cell_type": "markdown",
   "id": "d7c18cc9",
   "metadata": {
    "papermill": {
     "duration": 0.064178,
     "end_time": "2021-10-12T23:25:33.987371",
     "exception": false,
     "start_time": "2021-10-12T23:25:33.923193",
     "status": "completed"
    },
    "tags": []
   },
   "source": [
    "the figure shows that people with age around 38 tends to buy expensive ticket in the first class and people with age  around 29 tend to buy tickets in the second class however people with age around 24 tend to buy cheater tickets\n",
    "\n",
    "**so**, we can fillin null values in the Age column by informations from pclass ****"
   ]
  },
  {
   "cell_type": "code",
   "execution_count": 15,
   "id": "ae6e18f7",
   "metadata": {
    "execution": {
     "iopub.execute_input": "2021-10-12T23:25:34.124154Z",
     "iopub.status.busy": "2021-10-12T23:25:34.123458Z",
     "iopub.status.idle": "2021-10-12T23:25:34.126985Z",
     "shell.execute_reply": "2021-10-12T23:25:34.126311Z",
     "shell.execute_reply.started": "2021-10-12T22:59:13.860931Z"
    },
    "papermill": {
     "duration": 0.074751,
     "end_time": "2021-10-12T23:25:34.127131",
     "exception": false,
     "start_time": "2021-10-12T23:25:34.052380",
     "status": "completed"
    },
    "tags": []
   },
   "outputs": [],
   "source": [
    "def f(x):\n",
    "    Age=x[0]\n",
    "    Pclass=x[1]\n",
    "    if pd.isnull(Age):\n",
    "        if Pclass==1:\n",
    "            return 38\n",
    "        elif Pclass==2:\n",
    "            return 29\n",
    "        else:\n",
    "            return 24\n",
    "    else:\n",
    "        return Age"
   ]
  },
  {
   "cell_type": "code",
   "execution_count": 16,
   "id": "587d57dd",
   "metadata": {
    "execution": {
     "iopub.execute_input": "2021-10-12T23:25:34.273221Z",
     "iopub.status.busy": "2021-10-12T23:25:34.272545Z",
     "iopub.status.idle": "2021-10-12T23:25:34.280664Z",
     "shell.execute_reply": "2021-10-12T23:25:34.281129Z",
     "shell.execute_reply.started": "2021-10-12T22:41:01.882563Z"
    },
    "papermill": {
     "duration": 0.090378,
     "end_time": "2021-10-12T23:25:34.281311",
     "exception": false,
     "start_time": "2021-10-12T23:25:34.190933",
     "status": "completed"
    },
    "tags": []
   },
   "outputs": [],
   "source": [
    "df_witout_cabin['Age']=df_witout_cabin[['Age','Pclass']].apply(f,axis=1)"
   ]
  },
  {
   "cell_type": "code",
   "execution_count": 17,
   "id": "2e0a3d3c",
   "metadata": {
    "execution": {
     "iopub.execute_input": "2021-10-12T23:25:34.413400Z",
     "iopub.status.busy": "2021-10-12T23:25:34.412751Z",
     "iopub.status.idle": "2021-10-12T23:25:34.636193Z",
     "shell.execute_reply": "2021-10-12T23:25:34.636668Z",
     "shell.execute_reply.started": "2021-10-12T22:41:02.080721Z"
    },
    "papermill": {
     "duration": 0.291825,
     "end_time": "2021-10-12T23:25:34.636847",
     "exception": false,
     "start_time": "2021-10-12T23:25:34.345022",
     "status": "completed"
    },
    "tags": []
   },
   "outputs": [
    {
     "data": {
      "image/png": "[encoded data removed]",
      "text/plain": [
       "<Figure size 432x288 with 1 Axes>"
      ]
     },
     "metadata": {},
     "output_type": "display_data"
    }
   ],
   "source": [
    "sns.heatmap(df_witout_cabin.isnull(),yticklabels=False,cbar=False)\n",
    "\n",
    "plt.title('the missing values distribution in the data',fontsize=16)\n",
    "plt.show()"
   ]
  },
  {
   "cell_type": "code",
   "execution_count": 18,
   "id": "708d4952",
   "metadata": {
    "execution": {
     "iopub.execute_input": "2021-10-12T23:25:34.779249Z",
     "iopub.status.busy": "2021-10-12T23:25:34.778568Z",
     "iopub.status.idle": "2021-10-12T23:25:34.783333Z",
     "shell.execute_reply": "2021-10-12T23:25:34.782774Z",
     "shell.execute_reply.started": "2021-10-12T22:41:02.337480Z"
    },
    "papermill": {
     "duration": 0.081934,
     "end_time": "2021-10-12T23:25:34.783478",
     "exception": false,
     "start_time": "2021-10-12T23:25:34.701544",
     "status": "completed"
    },
    "tags": []
   },
   "outputs": [
    {
     "data": {
      "text/plain": [
       "PassengerId    0\n",
       "Survived       0\n",
       "Pclass         0\n",
       "Name           0\n",
       "Sex            0\n",
       "Age            0\n",
       "SibSp          0\n",
       "Parch          0\n",
       "Ticket         0\n",
       "Fare           0\n",
       "Embarked       2\n",
       "dtype: int64"
      ]
     },
     "execution_count": 18,
     "metadata": {},
     "output_type": "execute_result"
    }
   ],
   "source": [
    "df_witout_cabin.isnull().sum()"
   ]
  },
  {
   "cell_type": "code",
   "execution_count": 19,
   "id": "329ffe9d",
   "metadata": {
    "execution": {
     "iopub.execute_input": "2021-10-12T23:25:34.922570Z",
     "iopub.status.busy": "2021-10-12T23:25:34.921889Z",
     "iopub.status.idle": "2021-10-12T23:25:34.926352Z",
     "shell.execute_reply": "2021-10-12T23:25:34.926903Z",
     "shell.execute_reply.started": "2021-10-12T22:41:02.552876Z"
    },
    "papermill": {
     "duration": 0.078189,
     "end_time": "2021-10-12T23:25:34.927086",
     "exception": false,
     "start_time": "2021-10-12T23:25:34.848897",
     "status": "completed"
    },
    "tags": []
   },
   "outputs": [],
   "source": [
    "df_clean=df_witout_cabin.dropna()"
   ]
  },
  {
   "cell_type": "code",
   "execution_count": 20,
   "id": "a037bb2c",
   "metadata": {
    "execution": {
     "iopub.execute_input": "2021-10-12T23:25:35.061185Z",
     "iopub.status.busy": "2021-10-12T23:25:35.060457Z",
     "iopub.status.idle": "2021-10-12T23:25:35.069556Z",
     "shell.execute_reply": "2021-10-12T23:25:35.070173Z",
     "shell.execute_reply.started": "2021-10-12T22:41:02.779909Z"
    },
    "papermill": {
     "duration": 0.078471,
     "end_time": "2021-10-12T23:25:35.070387",
     "exception": false,
     "start_time": "2021-10-12T23:25:34.991916",
     "status": "completed"
    },
    "tags": []
   },
   "outputs": [
    {
     "data": {
      "text/plain": [
       "PassengerId    0\n",
       "Survived       0\n",
       "Pclass         0\n",
       "Name           0\n",
       "Sex            0\n",
       "Age            0\n",
       "SibSp          0\n",
       "Parch          0\n",
       "Ticket         0\n",
       "Fare           0\n",
       "Embarked       0\n",
       "dtype: int64"
      ]
     },
     "execution_count": 20,
     "metadata": {},
     "output_type": "execute_result"
    }
   ],
   "source": [
    "df_clean.isnull().sum()"
   ]
  },
  {
   "cell_type": "code",
   "execution_count": 21,
   "id": "6ddba441",
   "metadata": {
    "execution": {
     "iopub.execute_input": "2021-10-12T23:25:35.208094Z",
     "iopub.status.busy": "2021-10-12T23:25:35.207358Z",
     "iopub.status.idle": "2021-10-12T23:25:35.819785Z",
     "shell.execute_reply": "2021-10-12T23:25:35.819222Z",
     "shell.execute_reply.started": "2021-10-12T22:41:03.031088Z"
    },
    "papermill": {
     "duration": 0.68172,
     "end_time": "2021-10-12T23:25:35.819934",
     "exception": false,
     "start_time": "2021-10-12T23:25:35.138214",
     "status": "completed"
    },
    "tags": []
   },
   "outputs": [
    {
     "data": {
      "text/plain": [
       "<seaborn.axisgrid.FacetGrid at 0x7fb6e043eb90>"
      ]
     },
     "execution_count": 21,
     "metadata": {},
     "output_type": "execute_result"
    },
    {
     "data": {
      "image/png": "[encoded data removed]",
      "text/plain": [
       "<Figure size 360x360 with 1 Axes>"
      ]
     },
     "metadata": {},
     "output_type": "display_data"
    }
   ],
   "source": [
    "sns.displot(data=df_clean,x='Fare')"
   ]
  },
  {
   "cell_type": "code",
   "execution_count": 22,
   "id": "784adad3",
   "metadata": {
    "execution": {
     "iopub.execute_input": "2021-10-12T23:25:35.960548Z",
     "iopub.status.busy": "2021-10-12T23:25:35.959660Z",
     "iopub.status.idle": "2021-10-12T23:25:35.962195Z",
     "shell.execute_reply": "2021-10-12T23:25:35.962712Z",
     "shell.execute_reply.started": "2021-10-12T22:41:03.740035Z"
    },
    "papermill": {
     "duration": 0.076291,
     "end_time": "2021-10-12T23:25:35.962909",
     "exception": false,
     "start_time": "2021-10-12T23:25:35.886618",
     "status": "completed"
    },
    "tags": []
   },
   "outputs": [],
   "source": [
    "df_cleaned=df_clean[(df_clean['Fare']<200)]"
   ]
  },
  {
   "cell_type": "code",
   "execution_count": 23,
   "id": "72c5b910",
   "metadata": {
    "execution": {
     "iopub.execute_input": "2021-10-12T23:25:36.103570Z",
     "iopub.status.busy": "2021-10-12T23:25:36.102569Z",
     "iopub.status.idle": "2021-10-12T23:25:36.568899Z",
     "shell.execute_reply": "2021-10-12T23:25:36.568168Z",
     "shell.execute_reply.started": "2021-10-12T22:41:03.748363Z"
    },
    "papermill": {
     "duration": 0.537203,
     "end_time": "2021-10-12T23:25:36.569115",
     "exception": false,
     "start_time": "2021-10-12T23:25:36.031912",
     "status": "completed"
    },
    "tags": []
   },
   "outputs": [
    {
     "data": {
      "text/plain": [
       "<seaborn.axisgrid.FacetGrid at 0x7fb6e08d4c50>"
      ]
     },
     "execution_count": 23,
     "metadata": {},
     "output_type": "execute_result"
    },
    {
     "data": {
      "image/png": "[encoded data removed]",
      "text/plain": [
       "<Figure size 360x360 with 1 Axes>"
      ]
     },
     "metadata": {},
     "output_type": "display_data"
    }
   ],
   "source": [
    "sns.displot(data=df_cleaned,x='Fare')"
   ]
  },
  {
   "cell_type": "code",
   "execution_count": 24,
   "id": "d6617248",
   "metadata": {
    "execution": {
     "iopub.execute_input": "2021-10-12T23:25:36.716364Z",
     "iopub.status.busy": "2021-10-12T23:25:36.715437Z",
     "iopub.status.idle": "2021-10-12T23:25:36.719068Z",
     "shell.execute_reply": "2021-10-12T23:25:36.719643Z",
     "shell.execute_reply.started": "2021-10-12T22:41:04.317366Z"
    },
    "papermill": {
     "duration": 0.080152,
     "end_time": "2021-10-12T23:25:36.719849",
     "exception": false,
     "start_time": "2021-10-12T23:25:36.639697",
     "status": "completed"
    },
    "tags": []
   },
   "outputs": [
    {
     "data": {
      "text/plain": [
       "Index(['PassengerId', 'Survived', 'Pclass', 'Name', 'Sex', 'Age', 'SibSp',\n",
       "       'Parch', 'Ticket', 'Fare', 'Embarked'],\n",
       "      dtype='object')"
      ]
     },
     "execution_count": 24,
     "metadata": {},
     "output_type": "execute_result"
    }
   ],
   "source": [
    "df_cleaned.columns"
   ]
  },
  {
   "cell_type": "code",
   "execution_count": 25,
   "id": "3306ae57",
   "metadata": {
    "execution": {
     "iopub.execute_input": "2021-10-12T23:25:36.867673Z",
     "iopub.status.busy": "2021-10-12T23:25:36.866542Z",
     "iopub.status.idle": "2021-10-12T23:25:37.056392Z",
     "shell.execute_reply": "2021-10-12T23:25:37.055792Z",
     "shell.execute_reply.started": "2021-10-12T22:41:04.326308Z"
    },
    "papermill": {
     "duration": 0.267383,
     "end_time": "2021-10-12T23:25:37.056564",
     "exception": false,
     "start_time": "2021-10-12T23:25:36.789181",
     "status": "completed"
    },
    "tags": []
   },
   "outputs": [
    {
     "data": {
      "text/plain": [
       "<AxesSubplot:xlabel='Survived', ylabel='count'>"
      ]
     },
     "execution_count": 25,
     "metadata": {},
     "output_type": "execute_result"
    },
    {
     "data": {
      "image/png": "[encoded data removed]",
      "text/plain": [
       "<Figure size 432x288 with 1 Axes>"
      ]
     },
     "metadata": {},
     "output_type": "display_data"
    }
   ],
   "source": [
    "sns.countplot(data=df_cleaned,x='Survived',hue='Sex')"
   ]
  },
  {
   "cell_type": "code",
   "execution_count": 26,
   "id": "aa1aeb79",
   "metadata": {
    "execution": {
     "iopub.execute_input": "2021-10-12T23:25:37.206600Z",
     "iopub.status.busy": "2021-10-12T23:25:37.205950Z",
     "iopub.status.idle": "2021-10-12T23:25:37.605373Z",
     "shell.execute_reply": "2021-10-12T23:25:37.604172Z",
     "shell.execute_reply.started": "2021-10-12T22:41:04.583913Z"
    },
    "papermill": {
     "duration": 0.473174,
     "end_time": "2021-10-12T23:25:37.605564",
     "exception": false,
     "start_time": "2021-10-12T23:25:37.132390",
     "status": "completed"
    },
    "tags": []
   },
   "outputs": [
    {
     "data": {
      "text/plain": [
       "<seaborn.axisgrid.FacetGrid at 0x7fb6e01ae750>"
      ]
     },
     "execution_count": 26,
     "metadata": {},
     "output_type": "execute_result"
    },
    {
     "data": {
      "image/png": "[encoded data removed]",
      "text/plain": [
       "<Figure size 360x360 with 1 Axes>"
      ]
     },
     "metadata": {},
     "output_type": "display_data"
    }
   ],
   "source": [
    "sns.displot(data=df_cleaned,x='Survived')"
   ]
  },
  {
   "cell_type": "code",
   "execution_count": 27,
   "id": "abeb8cbe",
   "metadata": {
    "execution": {
     "iopub.execute_input": "2021-10-12T23:25:37.786868Z",
     "iopub.status.busy": "2021-10-12T23:25:37.783886Z",
     "iopub.status.idle": "2021-10-12T23:25:45.723670Z",
     "shell.execute_reply": "2021-10-12T23:25:45.724170Z",
     "shell.execute_reply.started": "2021-10-12T22:41:05.050680Z"
    },
    "papermill": {
     "duration": 8.022564,
     "end_time": "2021-10-12T23:25:45.724352",
     "exception": false,
     "start_time": "2021-10-12T23:25:37.701788",
     "status": "completed"
    },
    "tags": []
   },
   "outputs": [
    {
     "data": {
      "text/plain": [
       "<seaborn.axisgrid.PairGrid at 0x7fb6e0123bd0>"
      ]
     },
     "execution_count": 27,
     "metadata": {},
     "output_type": "execute_result"
    },
    {
     "data": {
      "image/png": "[encoded data removed]",
      "text/plain": [
       "<Figure size 1260x1260 with 35 Axes>"
      ]
     },
     "metadata": {},
     "output_type": "display_data"
    }
   ],
   "source": [
    "sns.pairplot(df_cleaned,corner=True)"
   ]
  },
  {
   "cell_type": "code",
   "execution_count": 28,
   "id": "524f0ac5",
   "metadata": {
    "execution": {
     "iopub.execute_input": "2021-10-12T23:25:45.886877Z",
     "iopub.status.busy": "2021-10-12T23:25:45.886135Z",
     "iopub.status.idle": "2021-10-12T23:25:45.929680Z",
     "shell.execute_reply": "2021-10-12T23:25:45.930136Z",
     "shell.execute_reply.started": "2021-10-12T22:41:12.748620Z"
    },
    "papermill": {
     "duration": 0.129049,
     "end_time": "2021-10-12T23:25:45.930312",
     "exception": false,
     "start_time": "2021-10-12T23:25:45.801263",
     "status": "completed"
    },
    "tags": []
   },
   "outputs": [
    {
     "data": {
      "text/html": [
       "<div>\n",
       "<style scoped>\n",
       "    .dataframe tbody tr th:only-of-type {\n",
       "        vertical-align: middle;\n",
       "    }\n",
       "\n",
       "    .dataframe tbody tr th {\n",
       "        vertical-align: top;\n",
       "    }\n",
       "\n",
       "    .dataframe thead th {\n",
       "        text-align: right;\n",
       "    }\n",
       "</style>\n",
       "<table border=\"1\" class=\"dataframe\">\n",
       "  <thead>\n",
       "    <tr style=\"text-align: right;\">\n",
       "      <th></th>\n",
       "      <th>PassengerId</th>\n",
       "      <th>Survived</th>\n",
       "      <th>Pclass</th>\n",
       "      <th>Name</th>\n",
       "      <th>Sex</th>\n",
       "      <th>Age</th>\n",
       "      <th>SibSp</th>\n",
       "      <th>Parch</th>\n",
       "      <th>Ticket</th>\n",
       "      <th>Fare</th>\n",
       "      <th>Cabin</th>\n",
       "      <th>Embarked</th>\n",
       "    </tr>\n",
       "  </thead>\n",
       "  <tbody>\n",
       "    <tr>\n",
       "      <th>count</th>\n",
       "      <td>891.000000</td>\n",
       "      <td>891.000000</td>\n",
       "      <td>891.000000</td>\n",
       "      <td>891</td>\n",
       "      <td>891</td>\n",
       "      <td>714.000000</td>\n",
       "      <td>891.000000</td>\n",
       "      <td>891.000000</td>\n",
       "      <td>891</td>\n",
       "      <td>891.000000</td>\n",
       "      <td>204</td>\n",
       "      <td>889</td>\n",
       "    </tr>\n",
       "    <tr>\n",
       "      <th>unique</th>\n",
       "      <td>NaN</td>\n",
       "      <td>NaN</td>\n",
       "      <td>NaN</td>\n",
       "      <td>891</td>\n",
       "      <td>2</td>\n",
       "      <td>NaN</td>\n",
       "      <td>NaN</td>\n",
       "      <td>NaN</td>\n",
       "      <td>681</td>\n",
       "      <td>NaN</td>\n",
       "      <td>147</td>\n",
       "      <td>3</td>\n",
       "    </tr>\n",
       "    <tr>\n",
       "      <th>top</th>\n",
       "      <td>NaN</td>\n",
       "      <td>NaN</td>\n",
       "      <td>NaN</td>\n",
       "      <td>Braund, Mr. Owen Harris</td>\n",
       "      <td>male</td>\n",
       "      <td>NaN</td>\n",
       "      <td>NaN</td>\n",
       "      <td>NaN</td>\n",
       "      <td>347082</td>\n",
       "      <td>NaN</td>\n",
       "      <td>B96 B98</td>\n",
       "      <td>S</td>\n",
       "    </tr>\n",
       "    <tr>\n",
       "      <th>freq</th>\n",
       "      <td>NaN</td>\n",
       "      <td>NaN</td>\n",
       "      <td>NaN</td>\n",
       "      <td>1</td>\n",
       "      <td>577</td>\n",
       "      <td>NaN</td>\n",
       "      <td>NaN</td>\n",
       "      <td>NaN</td>\n",
       "      <td>7</td>\n",
       "      <td>NaN</td>\n",
       "      <td>4</td>\n",
       "      <td>644</td>\n",
       "    </tr>\n",
       "    <tr>\n",
       "      <th>mean</th>\n",
       "      <td>446.000000</td>\n",
       "      <td>0.383838</td>\n",
       "      <td>2.308642</td>\n",
       "      <td>NaN</td>\n",
       "      <td>NaN</td>\n",
       "      <td>29.699118</td>\n",
       "      <td>0.523008</td>\n",
       "      <td>0.381594</td>\n",
       "      <td>NaN</td>\n",
       "      <td>32.204208</td>\n",
       "      <td>NaN</td>\n",
       "      <td>NaN</td>\n",
       "    </tr>\n",
       "    <tr>\n",
       "      <th>std</th>\n",
       "      <td>257.353842</td>\n",
       "      <td>0.486592</td>\n",
       "      <td>0.836071</td>\n",
       "      <td>NaN</td>\n",
       "      <td>NaN</td>\n",
       "      <td>14.526497</td>\n",
       "      <td>1.102743</td>\n",
       "      <td>0.806057</td>\n",
       "      <td>NaN</td>\n",
       "      <td>49.693429</td>\n",
       "      <td>NaN</td>\n",
       "      <td>NaN</td>\n",
       "    </tr>\n",
       "    <tr>\n",
       "      <th>min</th>\n",
       "      <td>1.000000</td>\n",
       "      <td>0.000000</td>\n",
       "      <td>1.000000</td>\n",
       "      <td>NaN</td>\n",
       "      <td>NaN</td>\n",
       "      <td>0.420000</td>\n",
       "      <td>0.000000</td>\n",
       "      <td>0.000000</td>\n",
       "      <td>NaN</td>\n",
       "      <td>0.000000</td>\n",
       "      <td>NaN</td>\n",
       "      <td>NaN</td>\n",
       "    </tr>\n",
       "    <tr>\n",
       "      <th>25%</th>\n",
       "      <td>223.500000</td>\n",
       "      <td>0.000000</td>\n",
       "      <td>2.000000</td>\n",
       "      <td>NaN</td>\n",
       "      <td>NaN</td>\n",
       "      <td>20.125000</td>\n",
       "      <td>0.000000</td>\n",
       "      <td>0.000000</td>\n",
       "      <td>NaN</td>\n",
       "      <td>7.910400</td>\n",
       "      <td>NaN</td>\n",
       "      <td>NaN</td>\n",
       "    </tr>\n",
       "    <tr>\n",
       "      <th>50%</th>\n",
       "      <td>446.000000</td>\n",
       "      <td>0.000000</td>\n",
       "      <td>3.000000</td>\n",
       "      <td>NaN</td>\n",
       "      <td>NaN</td>\n",
       "      <td>28.000000</td>\n",
       "      <td>0.000000</td>\n",
       "      <td>0.000000</td>\n",
       "      <td>NaN</td>\n",
       "      <td>14.454200</td>\n",
       "      <td>NaN</td>\n",
       "      <td>NaN</td>\n",
       "    </tr>\n",
       "    <tr>\n",
       "      <th>75%</th>\n",
       "      <td>668.500000</td>\n",
       "      <td>1.000000</td>\n",
       "      <td>3.000000</td>\n",
       "      <td>NaN</td>\n",
       "      <td>NaN</td>\n",
       "      <td>38.000000</td>\n",
       "      <td>1.000000</td>\n",
       "      <td>0.000000</td>\n",
       "      <td>NaN</td>\n",
       "      <td>31.000000</td>\n",
       "      <td>NaN</td>\n",
       "      <td>NaN</td>\n",
       "    </tr>\n",
       "    <tr>\n",
       "      <th>max</th>\n",
       "      <td>891.000000</td>\n",
       "      <td>1.000000</td>\n",
       "      <td>3.000000</td>\n",
       "      <td>NaN</td>\n",
       "      <td>NaN</td>\n",
       "      <td>80.000000</td>\n",
       "      <td>8.000000</td>\n",
       "      <td>6.000000</td>\n",
       "      <td>NaN</td>\n",
       "      <td>512.329200</td>\n",
       "      <td>NaN</td>\n",
       "      <td>NaN</td>\n",
       "    </tr>\n",
       "  </tbody>\n",
       "</table>\n",
       "</div>"
      ],
      "text/plain": [
       "        PassengerId    Survived      Pclass                     Name   Sex  \\\n",
       "count    891.000000  891.000000  891.000000                      891   891   \n",
       "unique          NaN         NaN         NaN                      891     2   \n",
       "top             NaN         NaN         NaN  Braund, Mr. Owen Harris  male   \n",
       "freq            NaN         NaN         NaN                        1   577   \n",
       "mean     446.000000    0.383838    2.308642                      NaN   NaN   \n",
       "std      257.353842    0.486592    0.836071                      NaN   NaN   \n",
       "min        1.000000    0.000000    1.000000                      NaN   NaN   \n",
       "25%      223.500000    0.000000    2.000000                      NaN   NaN   \n",
       "50%      446.000000    0.000000    3.000000                      NaN   NaN   \n",
       "75%      668.500000    1.000000    3.000000                      NaN   NaN   \n",
       "max      891.000000    1.000000    3.000000                      NaN   NaN   \n",
       "\n",
       "               Age       SibSp       Parch  Ticket        Fare    Cabin  \\\n",
       "count   714.000000  891.000000  891.000000     891  891.000000      204   \n",
       "unique         NaN         NaN         NaN     681         NaN      147   \n",
       "top            NaN         NaN         NaN  347082         NaN  B96 B98   \n",
       "freq           NaN         NaN         NaN       7         NaN        4   \n",
       "mean     29.699118    0.523008    0.381594     NaN   32.204208      NaN   \n",
       "std      14.526497    1.102743    0.806057     NaN   49.693429      NaN   \n",
       "min       0.420000    0.000000    0.000000     NaN    0.000000      NaN   \n",
       "25%      20.125000    0.000000    0.000000     NaN    7.910400      NaN   \n",
       "50%      28.000000    0.000000    0.000000     NaN   14.454200      NaN   \n",
       "75%      38.000000    1.000000    0.000000     NaN   31.000000      NaN   \n",
       "max      80.000000    8.000000    6.000000     NaN  512.329200      NaN   \n",
       "\n",
       "       Embarked  \n",
       "count       889  \n",
       "unique        3  \n",
       "top           S  \n",
       "freq        644  \n",
       "mean        NaN  \n",
       "std         NaN  \n",
       "min         NaN  \n",
       "25%         NaN  \n",
       "50%         NaN  \n",
       "75%         NaN  \n",
       "max         NaN  "
      ]
     },
     "execution_count": 28,
     "metadata": {},
     "output_type": "execute_result"
    }
   ],
   "source": [
    "df_train.describe(include='all')"
   ]
  },
  {
   "cell_type": "markdown",
   "id": "702e9736",
   "metadata": {
    "papermill": {
     "duration": 0.080471,
     "end_time": "2021-10-12T23:25:46.086885",
     "exception": false,
     "start_time": "2021-10-12T23:25:46.006414",
     "status": "completed"
    },
    "tags": []
   },
   "source": [
    "### Data Preprocessing"
   ]
  },
  {
   "cell_type": "code",
   "execution_count": 29,
   "id": "17feb53d",
   "metadata": {
    "execution": {
     "iopub.execute_input": "2021-10-12T23:25:46.264476Z",
     "iopub.status.busy": "2021-10-12T23:25:46.263323Z",
     "iopub.status.idle": "2021-10-12T23:25:46.268119Z",
     "shell.execute_reply": "2021-10-12T23:25:46.268612Z",
     "shell.execute_reply.started": "2021-10-12T23:02:21.923881Z"
    },
    "papermill": {
     "duration": 0.100073,
     "end_time": "2021-10-12T23:25:46.268830",
     "exception": false,
     "start_time": "2021-10-12T23:25:46.168757",
     "status": "completed"
    },
    "tags": []
   },
   "outputs": [
    {
     "data": {
      "text/html": [
       "<div>\n",
       "<style scoped>\n",
       "    .dataframe tbody tr th:only-of-type {\n",
       "        vertical-align: middle;\n",
       "    }\n",
       "\n",
       "    .dataframe tbody tr th {\n",
       "        vertical-align: top;\n",
       "    }\n",
       "\n",
       "    .dataframe thead th {\n",
       "        text-align: right;\n",
       "    }\n",
       "</style>\n",
       "<table border=\"1\" class=\"dataframe\">\n",
       "  <thead>\n",
       "    <tr style=\"text-align: right;\">\n",
       "      <th></th>\n",
       "      <th>Survived</th>\n",
       "      <th>Pclass</th>\n",
       "      <th>Sex</th>\n",
       "      <th>Age</th>\n",
       "      <th>SibSp</th>\n",
       "      <th>Parch</th>\n",
       "      <th>Fare</th>\n",
       "      <th>Embarked</th>\n",
       "    </tr>\n",
       "  </thead>\n",
       "  <tbody>\n",
       "    <tr>\n",
       "      <th>0</th>\n",
       "      <td>0</td>\n",
       "      <td>3</td>\n",
       "      <td>male</td>\n",
       "      <td>22.0</td>\n",
       "      <td>1</td>\n",
       "      <td>0</td>\n",
       "      <td>7.2500</td>\n",
       "      <td>S</td>\n",
       "    </tr>\n",
       "    <tr>\n",
       "      <th>1</th>\n",
       "      <td>1</td>\n",
       "      <td>1</td>\n",
       "      <td>female</td>\n",
       "      <td>38.0</td>\n",
       "      <td>1</td>\n",
       "      <td>0</td>\n",
       "      <td>71.2833</td>\n",
       "      <td>C</td>\n",
       "    </tr>\n",
       "    <tr>\n",
       "      <th>2</th>\n",
       "      <td>1</td>\n",
       "      <td>3</td>\n",
       "      <td>female</td>\n",
       "      <td>26.0</td>\n",
       "      <td>0</td>\n",
       "      <td>0</td>\n",
       "      <td>7.9250</td>\n",
       "      <td>S</td>\n",
       "    </tr>\n",
       "    <tr>\n",
       "      <th>3</th>\n",
       "      <td>1</td>\n",
       "      <td>1</td>\n",
       "      <td>female</td>\n",
       "      <td>35.0</td>\n",
       "      <td>1</td>\n",
       "      <td>0</td>\n",
       "      <td>53.1000</td>\n",
       "      <td>S</td>\n",
       "    </tr>\n",
       "    <tr>\n",
       "      <th>4</th>\n",
       "      <td>0</td>\n",
       "      <td>3</td>\n",
       "      <td>male</td>\n",
       "      <td>35.0</td>\n",
       "      <td>0</td>\n",
       "      <td>0</td>\n",
       "      <td>8.0500</td>\n",
       "      <td>S</td>\n",
       "    </tr>\n",
       "  </tbody>\n",
       "</table>\n",
       "</div>"
      ],
      "text/plain": [
       "   Survived  Pclass     Sex   Age  SibSp  Parch     Fare Embarked\n",
       "0         0       3    male  22.0      1      0   7.2500        S\n",
       "1         1       1  female  38.0      1      0  71.2833        C\n",
       "2         1       3  female  26.0      0      0   7.9250        S\n",
       "3         1       1  female  35.0      1      0  53.1000        S\n",
       "4         0       3    male  35.0      0      0   8.0500        S"
      ]
     },
     "execution_count": 29,
     "metadata": {},
     "output_type": "execute_result"
    }
   ],
   "source": [
    "df_needed=df_cleaned[['Survived', 'Pclass', 'Sex', 'Age', 'SibSp',\n",
    "       'Parch', 'Fare', 'Embarked']]\n",
    "df_needed.head()"
   ]
  },
  {
   "cell_type": "code",
   "execution_count": 30,
   "id": "05e06181",
   "metadata": {
    "execution": {
     "iopub.execute_input": "2021-10-12T23:25:46.443100Z",
     "iopub.status.busy": "2021-10-12T23:25:46.442027Z",
     "iopub.status.idle": "2021-10-12T23:25:46.445267Z",
     "shell.execute_reply": "2021-10-12T23:25:46.444696Z",
     "shell.execute_reply.started": "2021-10-12T22:41:12.815652Z"
    },
    "papermill": {
     "duration": 0.095205,
     "end_time": "2021-10-12T23:25:46.445432",
     "exception": false,
     "start_time": "2021-10-12T23:25:46.350227",
     "status": "completed"
    },
    "tags": []
   },
   "outputs": [],
   "source": [
    "df_dummies=pd.get_dummies(df_needed,drop_first=True)"
   ]
  },
  {
   "cell_type": "code",
   "execution_count": 31,
   "id": "f3d4dc45",
   "metadata": {
    "execution": {
     "iopub.execute_input": "2021-10-12T23:25:46.616463Z",
     "iopub.status.busy": "2021-10-12T23:25:46.615697Z",
     "iopub.status.idle": "2021-10-12T23:25:46.619206Z",
     "shell.execute_reply": "2021-10-12T23:25:46.618618Z",
     "shell.execute_reply.started": "2021-10-12T23:03:19.132884Z"
    },
    "papermill": {
     "duration": 0.095658,
     "end_time": "2021-10-12T23:25:46.619362",
     "exception": false,
     "start_time": "2021-10-12T23:25:46.523704",
     "status": "completed"
    },
    "tags": []
   },
   "outputs": [
    {
     "data": {
      "text/html": [
       "<div>\n",
       "<style scoped>\n",
       "    .dataframe tbody tr th:only-of-type {\n",
       "        vertical-align: middle;\n",
       "    }\n",
       "\n",
       "    .dataframe tbody tr th {\n",
       "        vertical-align: top;\n",
       "    }\n",
       "\n",
       "    .dataframe thead th {\n",
       "        text-align: right;\n",
       "    }\n",
       "</style>\n",
       "<table border=\"1\" class=\"dataframe\">\n",
       "  <thead>\n",
       "    <tr style=\"text-align: right;\">\n",
       "      <th></th>\n",
       "      <th>Survived</th>\n",
       "      <th>Pclass</th>\n",
       "      <th>Age</th>\n",
       "      <th>SibSp</th>\n",
       "      <th>Parch</th>\n",
       "      <th>Fare</th>\n",
       "      <th>Sex_male</th>\n",
       "      <th>Embarked_Q</th>\n",
       "      <th>Embarked_S</th>\n",
       "    </tr>\n",
       "  </thead>\n",
       "  <tbody>\n",
       "    <tr>\n",
       "      <th>0</th>\n",
       "      <td>0</td>\n",
       "      <td>3</td>\n",
       "      <td>22.0</td>\n",
       "      <td>1</td>\n",
       "      <td>0</td>\n",
       "      <td>7.2500</td>\n",
       "      <td>1</td>\n",
       "      <td>0</td>\n",
       "      <td>1</td>\n",
       "    </tr>\n",
       "    <tr>\n",
       "      <th>1</th>\n",
       "      <td>1</td>\n",
       "      <td>1</td>\n",
       "      <td>38.0</td>\n",
       "      <td>1</td>\n",
       "      <td>0</td>\n",
       "      <td>71.2833</td>\n",
       "      <td>0</td>\n",
       "      <td>0</td>\n",
       "      <td>0</td>\n",
       "    </tr>\n",
       "    <tr>\n",
       "      <th>2</th>\n",
       "      <td>1</td>\n",
       "      <td>3</td>\n",
       "      <td>26.0</td>\n",
       "      <td>0</td>\n",
       "      <td>0</td>\n",
       "      <td>7.9250</td>\n",
       "      <td>0</td>\n",
       "      <td>0</td>\n",
       "      <td>1</td>\n",
       "    </tr>\n",
       "    <tr>\n",
       "      <th>3</th>\n",
       "      <td>1</td>\n",
       "      <td>1</td>\n",
       "      <td>35.0</td>\n",
       "      <td>1</td>\n",
       "      <td>0</td>\n",
       "      <td>53.1000</td>\n",
       "      <td>0</td>\n",
       "      <td>0</td>\n",
       "      <td>1</td>\n",
       "    </tr>\n",
       "    <tr>\n",
       "      <th>4</th>\n",
       "      <td>0</td>\n",
       "      <td>3</td>\n",
       "      <td>35.0</td>\n",
       "      <td>0</td>\n",
       "      <td>0</td>\n",
       "      <td>8.0500</td>\n",
       "      <td>1</td>\n",
       "      <td>0</td>\n",
       "      <td>1</td>\n",
       "    </tr>\n",
       "  </tbody>\n",
       "</table>\n",
       "</div>"
      ],
      "text/plain": [
       "   Survived  Pclass   Age  SibSp  Parch     Fare  Sex_male  Embarked_Q  \\\n",
       "0         0       3  22.0      1      0   7.2500         1           0   \n",
       "1         1       1  38.0      1      0  71.2833         0           0   \n",
       "2         1       3  26.0      0      0   7.9250         0           0   \n",
       "3         1       1  35.0      1      0  53.1000         0           0   \n",
       "4         0       3  35.0      0      0   8.0500         1           0   \n",
       "\n",
       "   Embarked_S  \n",
       "0           1  \n",
       "1           0  \n",
       "2           1  \n",
       "3           1  \n",
       "4           1  "
      ]
     },
     "execution_count": 31,
     "metadata": {},
     "output_type": "execute_result"
    }
   ],
   "source": [
    "df_dummies.head()"
   ]
  },
  {
   "cell_type": "code",
   "execution_count": 32,
   "id": "ee567fe3",
   "metadata": {
    "execution": {
     "iopub.execute_input": "2021-10-12T23:25:46.779089Z",
     "iopub.status.busy": "2021-10-12T23:25:46.778333Z",
     "iopub.status.idle": "2021-10-12T23:25:46.784624Z",
     "shell.execute_reply": "2021-10-12T23:25:46.785113Z",
     "shell.execute_reply.started": "2021-10-12T22:41:12.851111Z"
    },
    "papermill": {
     "duration": 0.08853,
     "end_time": "2021-10-12T23:25:46.785319",
     "exception": false,
     "start_time": "2021-10-12T23:25:46.696789",
     "status": "completed"
    },
    "tags": []
   },
   "outputs": [],
   "source": [
    "X_train=df_dummies.drop('Survived',axis=1)\n",
    "y_train=df_dummies['Survived']"
   ]
  },
  {
   "cell_type": "code",
   "execution_count": 33,
   "id": "e68cf104",
   "metadata": {
    "execution": {
     "iopub.execute_input": "2021-10-12T23:25:46.955872Z",
     "iopub.status.busy": "2021-10-12T23:25:46.954945Z",
     "iopub.status.idle": "2021-10-12T23:25:46.959715Z",
     "shell.execute_reply": "2021-10-12T23:25:46.959171Z",
     "shell.execute_reply.started": "2021-10-12T22:41:12.864728Z"
    },
    "papermill": {
     "duration": 0.096621,
     "end_time": "2021-10-12T23:25:46.959857",
     "exception": false,
     "start_time": "2021-10-12T23:25:46.863236",
     "status": "completed"
    },
    "tags": []
   },
   "outputs": [
    {
     "data": {
      "text/html": [
       "<div>\n",
       "<style scoped>\n",
       "    .dataframe tbody tr th:only-of-type {\n",
       "        vertical-align: middle;\n",
       "    }\n",
       "\n",
       "    .dataframe tbody tr th {\n",
       "        vertical-align: top;\n",
       "    }\n",
       "\n",
       "    .dataframe thead th {\n",
       "        text-align: right;\n",
       "    }\n",
       "</style>\n",
       "<table border=\"1\" class=\"dataframe\">\n",
       "  <thead>\n",
       "    <tr style=\"text-align: right;\">\n",
       "      <th></th>\n",
       "      <th>Pclass</th>\n",
       "      <th>Age</th>\n",
       "      <th>SibSp</th>\n",
       "      <th>Parch</th>\n",
       "      <th>Fare</th>\n",
       "      <th>Sex_male</th>\n",
       "      <th>Embarked_Q</th>\n",
       "      <th>Embarked_S</th>\n",
       "    </tr>\n",
       "  </thead>\n",
       "  <tbody>\n",
       "    <tr>\n",
       "      <th>0</th>\n",
       "      <td>3</td>\n",
       "      <td>22.0</td>\n",
       "      <td>1</td>\n",
       "      <td>0</td>\n",
       "      <td>7.2500</td>\n",
       "      <td>1</td>\n",
       "      <td>0</td>\n",
       "      <td>1</td>\n",
       "    </tr>\n",
       "    <tr>\n",
       "      <th>1</th>\n",
       "      <td>1</td>\n",
       "      <td>38.0</td>\n",
       "      <td>1</td>\n",
       "      <td>0</td>\n",
       "      <td>71.2833</td>\n",
       "      <td>0</td>\n",
       "      <td>0</td>\n",
       "      <td>0</td>\n",
       "    </tr>\n",
       "    <tr>\n",
       "      <th>2</th>\n",
       "      <td>3</td>\n",
       "      <td>26.0</td>\n",
       "      <td>0</td>\n",
       "      <td>0</td>\n",
       "      <td>7.9250</td>\n",
       "      <td>0</td>\n",
       "      <td>0</td>\n",
       "      <td>1</td>\n",
       "    </tr>\n",
       "    <tr>\n",
       "      <th>3</th>\n",
       "      <td>1</td>\n",
       "      <td>35.0</td>\n",
       "      <td>1</td>\n",
       "      <td>0</td>\n",
       "      <td>53.1000</td>\n",
       "      <td>0</td>\n",
       "      <td>0</td>\n",
       "      <td>1</td>\n",
       "    </tr>\n",
       "    <tr>\n",
       "      <th>4</th>\n",
       "      <td>3</td>\n",
       "      <td>35.0</td>\n",
       "      <td>0</td>\n",
       "      <td>0</td>\n",
       "      <td>8.0500</td>\n",
       "      <td>1</td>\n",
       "      <td>0</td>\n",
       "      <td>1</td>\n",
       "    </tr>\n",
       "  </tbody>\n",
       "</table>\n",
       "</div>"
      ],
      "text/plain": [
       "   Pclass   Age  SibSp  Parch     Fare  Sex_male  Embarked_Q  Embarked_S\n",
       "0       3  22.0      1      0   7.2500         1           0           1\n",
       "1       1  38.0      1      0  71.2833         0           0           0\n",
       "2       3  26.0      0      0   7.9250         0           0           1\n",
       "3       1  35.0      1      0  53.1000         0           0           1\n",
       "4       3  35.0      0      0   8.0500         1           0           1"
      ]
     },
     "execution_count": 33,
     "metadata": {},
     "output_type": "execute_result"
    }
   ],
   "source": [
    "X_train.head()"
   ]
  },
  {
   "cell_type": "code",
   "execution_count": 34,
   "id": "f4e8e116",
   "metadata": {
    "execution": {
     "iopub.execute_input": "2021-10-12T23:25:47.120869Z",
     "iopub.status.busy": "2021-10-12T23:25:47.120166Z",
     "iopub.status.idle": "2021-10-12T23:25:47.125492Z",
     "shell.execute_reply": "2021-10-12T23:25:47.126030Z",
     "shell.execute_reply.started": "2021-10-12T22:41:12.885382Z"
    },
    "papermill": {
     "duration": 0.088576,
     "end_time": "2021-10-12T23:25:47.126229",
     "exception": false,
     "start_time": "2021-10-12T23:25:47.037653",
     "status": "completed"
    },
    "tags": []
   },
   "outputs": [
    {
     "data": {
      "text/plain": [
       "0    0\n",
       "1    1\n",
       "2    1\n",
       "3    1\n",
       "4    0\n",
       "Name: Survived, dtype: int64"
      ]
     },
     "execution_count": 34,
     "metadata": {},
     "output_type": "execute_result"
    }
   ],
   "source": [
    "y_train.head()"
   ]
  },
  {
   "cell_type": "markdown",
   "id": "f1cf5832",
   "metadata": {
    "papermill": {
     "duration": 0.079151,
     "end_time": "2021-10-12T23:25:47.285928",
     "exception": false,
     "start_time": "2021-10-12T23:25:47.206777",
     "status": "completed"
    },
    "tags": []
   },
   "source": [
    "### Choosing The correct Featues For Our Model"
   ]
  },
  {
   "cell_type": "code",
   "execution_count": 35,
   "id": "5d7d24b1",
   "metadata": {
    "execution": {
     "iopub.execute_input": "2021-10-12T23:25:47.450847Z",
     "iopub.status.busy": "2021-10-12T23:25:47.449769Z",
     "iopub.status.idle": "2021-10-12T23:25:48.381468Z",
     "shell.execute_reply": "2021-10-12T23:25:48.380200Z",
     "shell.execute_reply.started": "2021-10-12T22:41:12.902541Z"
    },
    "papermill": {
     "duration": 1.015913,
     "end_time": "2021-10-12T23:25:48.381671",
     "exception": false,
     "start_time": "2021-10-12T23:25:47.365758",
     "status": "completed"
    },
    "tags": []
   },
   "outputs": [],
   "source": [
    "import statsmodels.api as sm\n",
    "\n",
    "\n",
    "from scipy import stats\n",
    "stats.chisqprob = lambda chisq, df: stats.chi2.sf(chisq, df)"
   ]
  },
  {
   "cell_type": "code",
   "execution_count": 36,
   "id": "15d8230d",
   "metadata": {
    "execution": {
     "iopub.execute_input": "2021-10-12T23:25:48.553847Z",
     "iopub.status.busy": "2021-10-12T23:25:48.552794Z",
     "iopub.status.idle": "2021-10-12T23:25:48.654876Z",
     "shell.execute_reply": "2021-10-12T23:25:48.656349Z",
     "shell.execute_reply.started": "2021-10-12T22:41:13.701339Z"
    },
    "papermill": {
     "duration": 0.195082,
     "end_time": "2021-10-12T23:25:48.656817",
     "exception": false,
     "start_time": "2021-10-12T23:25:48.461735",
     "status": "completed"
    },
    "tags": []
   },
   "outputs": [
    {
     "name": "stdout",
     "output_type": "stream",
     "text": [
      "Optimization terminated successfully.\n",
      "         Current function value: 0.442218\n",
      "         Iterations 6\n"
     ]
    },
    {
     "name": "stderr",
     "output_type": "stream",
     "text": [
      "/opt/conda/lib/python3.7/site-packages/statsmodels/tsa/tsatools.py:142: FutureWarning: In a future version of pandas all arguments of concat except for the argument 'objs' will be keyword-only\n",
      "  x = pd.concat(x[::order], 1)\n"
     ]
    },
    {
     "data": {
      "text/html": [
       "<table class=\"simpletable\">\n",
       "<caption>Logit Regression Results</caption>\n",
       "<tr>\n",
       "  <th>Dep. Variable:</th>       <td>Survived</td>     <th>  No. Observations:  </th>  <td>   869</td>  \n",
       "</tr>\n",
       "<tr>\n",
       "  <th>Model:</th>                 <td>Logit</td>      <th>  Df Residuals:      </th>  <td>   860</td>  \n",
       "</tr>\n",
       "<tr>\n",
       "  <th>Method:</th>                 <td>MLE</td>       <th>  Df Model:          </th>  <td>     8</td>  \n",
       "</tr>\n",
       "<tr>\n",
       "  <th>Date:</th>            <td>Tue, 12 Oct 2021</td> <th>  Pseudo R-squ.:     </th>  <td>0.3316</td>  \n",
       "</tr>\n",
       "<tr>\n",
       "  <th>Time:</th>                <td>23:25:48</td>     <th>  Log-Likelihood:    </th> <td> -384.29</td> \n",
       "</tr>\n",
       "<tr>\n",
       "  <th>converged:</th>             <td>True</td>       <th>  LL-Null:           </th> <td> -574.96</td> \n",
       "</tr>\n",
       "<tr>\n",
       "  <th>Covariance Type:</th>     <td>nonrobust</td>    <th>  LLR p-value:       </th> <td>1.823e-77</td>\n",
       "</tr>\n",
       "</table>\n",
       "<table class=\"simpletable\">\n",
       "<tr>\n",
       "       <td></td>         <th>coef</th>     <th>std err</th>      <th>z</th>      <th>P>|z|</th>  <th>[0.025</th>    <th>0.975]</th>  \n",
       "</tr>\n",
       "<tr>\n",
       "  <th>const</th>      <td>    5.3636</td> <td>    0.663</td> <td>    8.094</td> <td> 0.000</td> <td>    4.065</td> <td>    6.662</td>\n",
       "</tr>\n",
       "<tr>\n",
       "  <th>Pclass</th>     <td>   -1.1344</td> <td>    0.171</td> <td>   -6.616</td> <td> 0.000</td> <td>   -1.470</td> <td>   -0.798</td>\n",
       "</tr>\n",
       "<tr>\n",
       "  <th>Age</th>        <td>   -0.0442</td> <td>    0.008</td> <td>   -5.316</td> <td> 0.000</td> <td>   -0.060</td> <td>   -0.028</td>\n",
       "</tr>\n",
       "<tr>\n",
       "  <th>SibSp</th>      <td>   -0.3735</td> <td>    0.116</td> <td>   -3.229</td> <td> 0.001</td> <td>   -0.600</td> <td>   -0.147</td>\n",
       "</tr>\n",
       "<tr>\n",
       "  <th>Parch</th>      <td>   -0.0786</td> <td>    0.123</td> <td>   -0.638</td> <td> 0.524</td> <td>   -0.320</td> <td>    0.163</td>\n",
       "</tr>\n",
       "<tr>\n",
       "  <th>Fare</th>       <td>    0.0056</td> <td>    0.005</td> <td>    1.112</td> <td> 0.266</td> <td>   -0.004</td> <td>    0.015</td>\n",
       "</tr>\n",
       "<tr>\n",
       "  <th>Sex_male</th>   <td>   -2.6715</td> <td>    0.204</td> <td>  -13.122</td> <td> 0.000</td> <td>   -3.071</td> <td>   -2.272</td>\n",
       "</tr>\n",
       "<tr>\n",
       "  <th>Embarked_Q</th> <td>   -0.1100</td> <td>    0.382</td> <td>   -0.288</td> <td> 0.773</td> <td>   -0.859</td> <td>    0.639</td>\n",
       "</tr>\n",
       "<tr>\n",
       "  <th>Embarked_S</th> <td>   -0.3902</td> <td>    0.241</td> <td>   -1.617</td> <td> 0.106</td> <td>   -0.863</td> <td>    0.083</td>\n",
       "</tr>\n",
       "</table>"
      ],
      "text/plain": [
       "<class 'statsmodels.iolib.summary.Summary'>\n",
       "\"\"\"\n",
       "                           Logit Regression Results                           \n",
       "==============================================================================\n",
       "Dep. Variable:               Survived   No. Observations:                  869\n",
       "Model:                          Logit   Df Residuals:                      860\n",
       "Method:                           MLE   Df Model:                            8\n",
       "Date:                Tue, 12 Oct 2021   Pseudo R-squ.:                  0.3316\n",
       "Time:                        23:25:48   Log-Likelihood:                -384.29\n",
       "converged:                       True   LL-Null:                       -574.96\n",
       "Covariance Type:            nonrobust   LLR p-value:                 1.823e-77\n",
       "==============================================================================\n",
       "                 coef    std err          z      P>|z|      [0.025      0.975]\n",
       "------------------------------------------------------------------------------\n",
       "const          5.3636      0.663      8.094      0.000       4.065       6.662\n",
       "Pclass        -1.1344      0.171     -6.616      0.000      -1.470      -0.798\n",
       "Age           -0.0442      0.008     -5.316      0.000      -0.060      -0.028\n",
       "SibSp         -0.3735      0.116     -3.229      0.001      -0.600      -0.147\n",
       "Parch         -0.0786      0.123     -0.638      0.524      -0.320       0.163\n",
       "Fare           0.0056      0.005      1.112      0.266      -0.004       0.015\n",
       "Sex_male      -2.6715      0.204    -13.122      0.000      -3.071      -2.272\n",
       "Embarked_Q    -0.1100      0.382     -0.288      0.773      -0.859       0.639\n",
       "Embarked_S    -0.3902      0.241     -1.617      0.106      -0.863       0.083\n",
       "==============================================================================\n",
       "\"\"\""
      ]
     },
     "execution_count": 36,
     "metadata": {},
     "output_type": "execute_result"
    }
   ],
   "source": [
    "x=sm.add_constant(X_train)\n",
    "model=sm.Logit(y_train,x)\n",
    "result=model.fit()\n",
    "\n",
    "result.summary()"
   ]
  },
  {
   "cell_type": "markdown",
   "id": "b5517583",
   "metadata": {
    "papermill": {
     "duration": 0.080421,
     "end_time": "2021-10-12T23:25:48.857701",
     "exception": false,
     "start_time": "2021-10-12T23:25:48.777280",
     "status": "completed"
    },
    "tags": []
   },
   "source": [
    "the feature with p_value greater than 0.005 has no statsticaly scnificance and must be deleted according to the back_ward_elimination_rule  \n",
    "\n",
    "but we will jut one feature at the step"
   ]
  },
  {
   "cell_type": "code",
   "execution_count": 37,
   "id": "5869e24f",
   "metadata": {
    "execution": {
     "iopub.execute_input": "2021-10-12T23:25:49.026307Z",
     "iopub.status.busy": "2021-10-12T23:25:49.021727Z",
     "iopub.status.idle": "2021-10-12T23:25:49.028183Z",
     "shell.execute_reply": "2021-10-12T23:25:49.028821Z",
     "shell.execute_reply.started": "2021-10-12T22:41:13.767332Z"
    },
    "papermill": {
     "duration": 0.090411,
     "end_time": "2021-10-12T23:25:49.029018",
     "exception": false,
     "start_time": "2021-10-12T23:25:48.938607",
     "status": "completed"
    },
    "tags": []
   },
   "outputs": [],
   "source": [
    "X_=X_train.drop(X_train[['Embarked_Q','Embarked_S']],axis=1)\n"
   ]
  },
  {
   "cell_type": "code",
   "execution_count": 38,
   "id": "3b110c98",
   "metadata": {
    "execution": {
     "iopub.execute_input": "2021-10-12T23:25:49.199121Z",
     "iopub.status.busy": "2021-10-12T23:25:49.198397Z",
     "iopub.status.idle": "2021-10-12T23:25:49.209245Z",
     "shell.execute_reply": "2021-10-12T23:25:49.209912Z",
     "shell.execute_reply.started": "2021-10-12T22:41:13.782998Z"
    },
    "papermill": {
     "duration": 0.099817,
     "end_time": "2021-10-12T23:25:49.210119",
     "exception": false,
     "start_time": "2021-10-12T23:25:49.110302",
     "status": "completed"
    },
    "tags": []
   },
   "outputs": [
    {
     "data": {
      "text/html": [
       "<div>\n",
       "<style scoped>\n",
       "    .dataframe tbody tr th:only-of-type {\n",
       "        vertical-align: middle;\n",
       "    }\n",
       "\n",
       "    .dataframe tbody tr th {\n",
       "        vertical-align: top;\n",
       "    }\n",
       "\n",
       "    .dataframe thead th {\n",
       "        text-align: right;\n",
       "    }\n",
       "</style>\n",
       "<table border=\"1\" class=\"dataframe\">\n",
       "  <thead>\n",
       "    <tr style=\"text-align: right;\">\n",
       "      <th></th>\n",
       "      <th>Pclass</th>\n",
       "      <th>Age</th>\n",
       "      <th>SibSp</th>\n",
       "      <th>Parch</th>\n",
       "      <th>Fare</th>\n",
       "      <th>Sex_male</th>\n",
       "    </tr>\n",
       "  </thead>\n",
       "  <tbody>\n",
       "    <tr>\n",
       "      <th>0</th>\n",
       "      <td>3</td>\n",
       "      <td>22.0</td>\n",
       "      <td>1</td>\n",
       "      <td>0</td>\n",
       "      <td>7.2500</td>\n",
       "      <td>1</td>\n",
       "    </tr>\n",
       "    <tr>\n",
       "      <th>1</th>\n",
       "      <td>1</td>\n",
       "      <td>38.0</td>\n",
       "      <td>1</td>\n",
       "      <td>0</td>\n",
       "      <td>71.2833</td>\n",
       "      <td>0</td>\n",
       "    </tr>\n",
       "    <tr>\n",
       "      <th>2</th>\n",
       "      <td>3</td>\n",
       "      <td>26.0</td>\n",
       "      <td>0</td>\n",
       "      <td>0</td>\n",
       "      <td>7.9250</td>\n",
       "      <td>0</td>\n",
       "    </tr>\n",
       "    <tr>\n",
       "      <th>3</th>\n",
       "      <td>1</td>\n",
       "      <td>35.0</td>\n",
       "      <td>1</td>\n",
       "      <td>0</td>\n",
       "      <td>53.1000</td>\n",
       "      <td>0</td>\n",
       "    </tr>\n",
       "    <tr>\n",
       "      <th>4</th>\n",
       "      <td>3</td>\n",
       "      <td>35.0</td>\n",
       "      <td>0</td>\n",
       "      <td>0</td>\n",
       "      <td>8.0500</td>\n",
       "      <td>1</td>\n",
       "    </tr>\n",
       "  </tbody>\n",
       "</table>\n",
       "</div>"
      ],
      "text/plain": [
       "   Pclass   Age  SibSp  Parch     Fare  Sex_male\n",
       "0       3  22.0      1      0   7.2500         1\n",
       "1       1  38.0      1      0  71.2833         0\n",
       "2       3  26.0      0      0   7.9250         0\n",
       "3       1  35.0      1      0  53.1000         0\n",
       "4       3  35.0      0      0   8.0500         1"
      ]
     },
     "execution_count": 38,
     "metadata": {},
     "output_type": "execute_result"
    }
   ],
   "source": [
    "X_.head()"
   ]
  },
  {
   "cell_type": "code",
   "execution_count": 39,
   "id": "d22ffec1",
   "metadata": {
    "execution": {
     "iopub.execute_input": "2021-10-12T23:25:49.376892Z",
     "iopub.status.busy": "2021-10-12T23:25:49.376165Z",
     "iopub.status.idle": "2021-10-12T23:25:49.435525Z",
     "shell.execute_reply": "2021-10-12T23:25:49.434533Z",
     "shell.execute_reply.started": "2021-10-12T22:41:13.804711Z"
    },
    "papermill": {
     "duration": 0.144491,
     "end_time": "2021-10-12T23:25:49.435780",
     "exception": false,
     "start_time": "2021-10-12T23:25:49.291289",
     "status": "completed"
    },
    "tags": []
   },
   "outputs": [
    {
     "name": "stdout",
     "output_type": "stream",
     "text": [
      "Optimization terminated successfully.\n",
      "         Current function value: 0.443961\n",
      "         Iterations 6\n"
     ]
    },
    {
     "name": "stderr",
     "output_type": "stream",
     "text": [
      "/opt/conda/lib/python3.7/site-packages/statsmodels/tsa/tsatools.py:142: FutureWarning: In a future version of pandas all arguments of concat except for the argument 'objs' will be keyword-only\n",
      "  x = pd.concat(x[::order], 1)\n"
     ]
    },
    {
     "data": {
      "text/html": [
       "<table class=\"simpletable\">\n",
       "<caption>Logit Regression Results</caption>\n",
       "<tr>\n",
       "  <th>Dep. Variable:</th>       <td>Survived</td>     <th>  No. Observations:  </th>  <td>   869</td>  \n",
       "</tr>\n",
       "<tr>\n",
       "  <th>Model:</th>                 <td>Logit</td>      <th>  Df Residuals:      </th>  <td>   862</td>  \n",
       "</tr>\n",
       "<tr>\n",
       "  <th>Method:</th>                 <td>MLE</td>       <th>  Df Model:          </th>  <td>     6</td>  \n",
       "</tr>\n",
       "<tr>\n",
       "  <th>Date:</th>            <td>Tue, 12 Oct 2021</td> <th>  Pseudo R-squ.:     </th>  <td>0.3290</td>  \n",
       "</tr>\n",
       "<tr>\n",
       "  <th>Time:</th>                <td>23:25:49</td>     <th>  Log-Likelihood:    </th> <td> -385.80</td> \n",
       "</tr>\n",
       "<tr>\n",
       "  <th>converged:</th>             <td>True</td>       <th>  LL-Null:           </th> <td> -574.96</td> \n",
       "</tr>\n",
       "<tr>\n",
       "  <th>Covariance Type:</th>     <td>nonrobust</td>    <th>  LLR p-value:       </th> <td>1.276e-78</td>\n",
       "</tr>\n",
       "</table>\n",
       "<table class=\"simpletable\">\n",
       "<tr>\n",
       "      <td></td>        <th>coef</th>     <th>std err</th>      <th>z</th>      <th>P>|z|</th>  <th>[0.025</th>    <th>0.975]</th>  \n",
       "</tr>\n",
       "<tr>\n",
       "  <th>const</th>    <td>    5.0448</td> <td>    0.630</td> <td>    8.005</td> <td> 0.000</td> <td>    3.810</td> <td>    6.280</td>\n",
       "</tr>\n",
       "<tr>\n",
       "  <th>Pclass</th>   <td>   -1.1163</td> <td>    0.167</td> <td>   -6.665</td> <td> 0.000</td> <td>   -1.445</td> <td>   -0.788</td>\n",
       "</tr>\n",
       "<tr>\n",
       "  <th>Age</th>      <td>   -0.0449</td> <td>    0.008</td> <td>   -5.404</td> <td> 0.000</td> <td>   -0.061</td> <td>   -0.029</td>\n",
       "</tr>\n",
       "<tr>\n",
       "  <th>SibSp</th>    <td>   -0.3997</td> <td>    0.115</td> <td>   -3.469</td> <td> 0.001</td> <td>   -0.625</td> <td>   -0.174</td>\n",
       "</tr>\n",
       "<tr>\n",
       "  <th>Parch</th>    <td>   -0.0946</td> <td>    0.122</td> <td>   -0.778</td> <td> 0.437</td> <td>   -0.333</td> <td>    0.144</td>\n",
       "</tr>\n",
       "<tr>\n",
       "  <th>Fare</th>     <td>    0.0072</td> <td>    0.005</td> <td>    1.441</td> <td> 0.149</td> <td>   -0.003</td> <td>    0.017</td>\n",
       "</tr>\n",
       "<tr>\n",
       "  <th>Sex_male</th> <td>   -2.6976</td> <td>    0.202</td> <td>  -13.375</td> <td> 0.000</td> <td>   -3.093</td> <td>   -2.302</td>\n",
       "</tr>\n",
       "</table>"
      ],
      "text/plain": [
       "<class 'statsmodels.iolib.summary.Summary'>\n",
       "\"\"\"\n",
       "                           Logit Regression Results                           \n",
       "==============================================================================\n",
       "Dep. Variable:               Survived   No. Observations:                  869\n",
       "Model:                          Logit   Df Residuals:                      862\n",
       "Method:                           MLE   Df Model:                            6\n",
       "Date:                Tue, 12 Oct 2021   Pseudo R-squ.:                  0.3290\n",
       "Time:                        23:25:49   Log-Likelihood:                -385.80\n",
       "converged:                       True   LL-Null:                       -574.96\n",
       "Covariance Type:            nonrobust   LLR p-value:                 1.276e-78\n",
       "==============================================================================\n",
       "                 coef    std err          z      P>|z|      [0.025      0.975]\n",
       "------------------------------------------------------------------------------\n",
       "const          5.0448      0.630      8.005      0.000       3.810       6.280\n",
       "Pclass        -1.1163      0.167     -6.665      0.000      -1.445      -0.788\n",
       "Age           -0.0449      0.008     -5.404      0.000      -0.061      -0.029\n",
       "SibSp         -0.3997      0.115     -3.469      0.001      -0.625      -0.174\n",
       "Parch         -0.0946      0.122     -0.778      0.437      -0.333       0.144\n",
       "Fare           0.0072      0.005      1.441      0.149      -0.003       0.017\n",
       "Sex_male      -2.6976      0.202    -13.375      0.000      -3.093      -2.302\n",
       "==============================================================================\n",
       "\"\"\""
      ]
     },
     "execution_count": 39,
     "metadata": {},
     "output_type": "execute_result"
    }
   ],
   "source": [
    "x1=sm.add_constant(X_)\n",
    "model=sm.Logit(y_train,x1)\n",
    "result=model.fit()\n",
    "\n",
    "result.summary()"
   ]
  },
  {
   "cell_type": "code",
   "execution_count": 40,
   "id": "8178af08",
   "metadata": {
    "execution": {
     "iopub.execute_input": "2021-10-12T23:25:49.642742Z",
     "iopub.status.busy": "2021-10-12T23:25:49.641807Z",
     "iopub.status.idle": "2021-10-12T23:25:49.645204Z",
     "shell.execute_reply": "2021-10-12T23:25:49.644652Z",
     "shell.execute_reply.started": "2021-10-12T22:41:13.864370Z"
    },
    "papermill": {
     "duration": 0.09223,
     "end_time": "2021-10-12T23:25:49.645385",
     "exception": false,
     "start_time": "2021-10-12T23:25:49.553155",
     "status": "completed"
    },
    "tags": []
   },
   "outputs": [],
   "source": [
    "X_trial=X_.drop('Parch',axis=1)\n"
   ]
  },
  {
   "cell_type": "code",
   "execution_count": 41,
   "id": "279bb0cc",
   "metadata": {
    "execution": {
     "iopub.execute_input": "2021-10-12T23:25:49.822811Z",
     "iopub.status.busy": "2021-10-12T23:25:49.816060Z",
     "iopub.status.idle": "2021-10-12T23:25:49.874628Z",
     "shell.execute_reply": "2021-10-12T23:25:49.875467Z",
     "shell.execute_reply.started": "2021-10-12T22:41:13.873730Z"
    },
    "papermill": {
     "duration": 0.14505,
     "end_time": "2021-10-12T23:25:49.875778",
     "exception": false,
     "start_time": "2021-10-12T23:25:49.730728",
     "status": "completed"
    },
    "tags": []
   },
   "outputs": [
    {
     "name": "stdout",
     "output_type": "stream",
     "text": [
      "Optimization terminated successfully.\n",
      "         Current function value: 0.444313\n",
      "         Iterations 6\n"
     ]
    },
    {
     "name": "stderr",
     "output_type": "stream",
     "text": [
      "/opt/conda/lib/python3.7/site-packages/statsmodels/tsa/tsatools.py:142: FutureWarning: In a future version of pandas all arguments of concat except for the argument 'objs' will be keyword-only\n",
      "  x = pd.concat(x[::order], 1)\n"
     ]
    },
    {
     "data": {
      "text/html": [
       "<table class=\"simpletable\">\n",
       "<caption>Logit Regression Results</caption>\n",
       "<tr>\n",
       "  <th>Dep. Variable:</th>       <td>Survived</td>     <th>  No. Observations:  </th>  <td>   869</td>  \n",
       "</tr>\n",
       "<tr>\n",
       "  <th>Model:</th>                 <td>Logit</td>      <th>  Df Residuals:      </th>  <td>   863</td>  \n",
       "</tr>\n",
       "<tr>\n",
       "  <th>Method:</th>                 <td>MLE</td>       <th>  Df Model:          </th>  <td>     5</td>  \n",
       "</tr>\n",
       "<tr>\n",
       "  <th>Date:</th>            <td>Tue, 12 Oct 2021</td> <th>  Pseudo R-squ.:     </th>  <td>0.3285</td>  \n",
       "</tr>\n",
       "<tr>\n",
       "  <th>Time:</th>                <td>23:25:49</td>     <th>  Log-Likelihood:    </th> <td> -386.11</td> \n",
       "</tr>\n",
       "<tr>\n",
       "  <th>converged:</th>             <td>True</td>       <th>  LL-Null:           </th> <td> -574.96</td> \n",
       "</tr>\n",
       "<tr>\n",
       "  <th>Covariance Type:</th>     <td>nonrobust</td>    <th>  LLR p-value:       </th> <td>1.887e-79</td>\n",
       "</tr>\n",
       "</table>\n",
       "<table class=\"simpletable\">\n",
       "<tr>\n",
       "      <td></td>        <th>coef</th>     <th>std err</th>      <th>z</th>      <th>P>|z|</th>  <th>[0.025</th>    <th>0.975]</th>  \n",
       "</tr>\n",
       "<tr>\n",
       "  <th>const</th>    <td>    5.0679</td> <td>    0.630</td> <td>    8.049</td> <td> 0.000</td> <td>    3.834</td> <td>    6.302</td>\n",
       "</tr>\n",
       "<tr>\n",
       "  <th>Pclass</th>   <td>   -1.1386</td> <td>    0.165</td> <td>   -6.893</td> <td> 0.000</td> <td>   -1.462</td> <td>   -0.815</td>\n",
       "</tr>\n",
       "<tr>\n",
       "  <th>Age</th>      <td>   -0.0447</td> <td>    0.008</td> <td>   -5.391</td> <td> 0.000</td> <td>   -0.061</td> <td>   -0.028</td>\n",
       "</tr>\n",
       "<tr>\n",
       "  <th>SibSp</th>    <td>   -0.4181</td> <td>    0.113</td> <td>   -3.695</td> <td> 0.000</td> <td>   -0.640</td> <td>   -0.196</td>\n",
       "</tr>\n",
       "<tr>\n",
       "  <th>Fare</th>     <td>    0.0062</td> <td>    0.005</td> <td>    1.298</td> <td> 0.194</td> <td>   -0.003</td> <td>    0.016</td>\n",
       "</tr>\n",
       "<tr>\n",
       "  <th>Sex_male</th> <td>   -2.6673</td> <td>    0.197</td> <td>  -13.514</td> <td> 0.000</td> <td>   -3.054</td> <td>   -2.280</td>\n",
       "</tr>\n",
       "</table>"
      ],
      "text/plain": [
       "<class 'statsmodels.iolib.summary.Summary'>\n",
       "\"\"\"\n",
       "                           Logit Regression Results                           \n",
       "==============================================================================\n",
       "Dep. Variable:               Survived   No. Observations:                  869\n",
       "Model:                          Logit   Df Residuals:                      863\n",
       "Method:                           MLE   Df Model:                            5\n",
       "Date:                Tue, 12 Oct 2021   Pseudo R-squ.:                  0.3285\n",
       "Time:                        23:25:49   Log-Likelihood:                -386.11\n",
       "converged:                       True   LL-Null:                       -574.96\n",
       "Covariance Type:            nonrobust   LLR p-value:                 1.887e-79\n",
       "==============================================================================\n",
       "                 coef    std err          z      P>|z|      [0.025      0.975]\n",
       "------------------------------------------------------------------------------\n",
       "const          5.0679      0.630      8.049      0.000       3.834       6.302\n",
       "Pclass        -1.1386      0.165     -6.893      0.000      -1.462      -0.815\n",
       "Age           -0.0447      0.008     -5.391      0.000      -0.061      -0.028\n",
       "SibSp         -0.4181      0.113     -3.695      0.000      -0.640      -0.196\n",
       "Fare           0.0062      0.005      1.298      0.194      -0.003       0.016\n",
       "Sex_male      -2.6673      0.197    -13.514      0.000      -3.054      -2.280\n",
       "==============================================================================\n",
       "\"\"\""
      ]
     },
     "execution_count": 41,
     "metadata": {},
     "output_type": "execute_result"
    }
   ],
   "source": [
    "x2=sm.add_constant(X_trial)\n",
    "model=sm.Logit(y_train,x2)\n",
    "result=model.fit()\n",
    "\n",
    "result.summary()"
   ]
  },
  {
   "cell_type": "code",
   "execution_count": 42,
   "id": "865fa8d8",
   "metadata": {
    "execution": {
     "iopub.execute_input": "2021-10-12T23:25:50.085432Z",
     "iopub.status.busy": "2021-10-12T23:25:50.084629Z",
     "iopub.status.idle": "2021-10-12T23:25:50.089029Z",
     "shell.execute_reply": "2021-10-12T23:25:50.088472Z",
     "shell.execute_reply.started": "2021-10-12T22:41:13.941390Z"
    },
    "papermill": {
     "duration": 0.094492,
     "end_time": "2021-10-12T23:25:50.089175",
     "exception": false,
     "start_time": "2021-10-12T23:25:49.994683",
     "status": "completed"
    },
    "tags": []
   },
   "outputs": [],
   "source": [
    "X_final=X_trial.drop('Fare',axis=1)\n"
   ]
  },
  {
   "cell_type": "code",
   "execution_count": 43,
   "id": "48d2c5d7",
   "metadata": {
    "execution": {
     "iopub.execute_input": "2021-10-12T23:25:50.266074Z",
     "iopub.status.busy": "2021-10-12T23:25:50.264823Z",
     "iopub.status.idle": "2021-10-12T23:25:50.318947Z",
     "shell.execute_reply": "2021-10-12T23:25:50.319845Z",
     "shell.execute_reply.started": "2021-10-12T22:41:13.953151Z"
    },
    "papermill": {
     "duration": 0.144674,
     "end_time": "2021-10-12T23:25:50.320164",
     "exception": false,
     "start_time": "2021-10-12T23:25:50.175490",
     "status": "completed"
    },
    "tags": []
   },
   "outputs": [
    {
     "name": "stdout",
     "output_type": "stream",
     "text": [
      "Optimization terminated successfully.\n",
      "         Current function value: 0.445317\n",
      "         Iterations 6\n"
     ]
    },
    {
     "name": "stderr",
     "output_type": "stream",
     "text": [
      "/opt/conda/lib/python3.7/site-packages/statsmodels/tsa/tsatools.py:142: FutureWarning: In a future version of pandas all arguments of concat except for the argument 'objs' will be keyword-only\n",
      "  x = pd.concat(x[::order], 1)\n"
     ]
    },
    {
     "data": {
      "text/html": [
       "<table class=\"simpletable\">\n",
       "<caption>Logit Regression Results</caption>\n",
       "<tr>\n",
       "  <th>Dep. Variable:</th>       <td>Survived</td>     <th>  No. Observations:  </th>  <td>   869</td>  \n",
       "</tr>\n",
       "<tr>\n",
       "  <th>Model:</th>                 <td>Logit</td>      <th>  Df Residuals:      </th>  <td>   864</td>  \n",
       "</tr>\n",
       "<tr>\n",
       "  <th>Method:</th>                 <td>MLE</td>       <th>  Df Model:          </th>  <td>     4</td>  \n",
       "</tr>\n",
       "<tr>\n",
       "  <th>Date:</th>            <td>Tue, 12 Oct 2021</td> <th>  Pseudo R-squ.:     </th>  <td>0.3269</td>  \n",
       "</tr>\n",
       "<tr>\n",
       "  <th>Time:</th>                <td>23:25:50</td>     <th>  Log-Likelihood:    </th> <td> -386.98</td> \n",
       "</tr>\n",
       "<tr>\n",
       "  <th>converged:</th>             <td>True</td>       <th>  LL-Null:           </th> <td> -574.96</td> \n",
       "</tr>\n",
       "<tr>\n",
       "  <th>Covariance Type:</th>     <td>nonrobust</td>    <th>  LLR p-value:       </th> <td>4.336e-80</td>\n",
       "</tr>\n",
       "</table>\n",
       "<table class=\"simpletable\">\n",
       "<tr>\n",
       "      <td></td>        <th>coef</th>     <th>std err</th>      <th>z</th>      <th>P>|z|</th>  <th>[0.025</th>    <th>0.975]</th>  \n",
       "</tr>\n",
       "<tr>\n",
       "  <th>const</th>    <td>    5.5294</td> <td>    0.525</td> <td>   10.537</td> <td> 0.000</td> <td>    4.501</td> <td>    6.558</td>\n",
       "</tr>\n",
       "<tr>\n",
       "  <th>Pclass</th>   <td>   -1.2726</td> <td>    0.131</td> <td>   -9.736</td> <td> 0.000</td> <td>   -1.529</td> <td>   -1.016</td>\n",
       "</tr>\n",
       "<tr>\n",
       "  <th>Age</th>      <td>   -0.0450</td> <td>    0.008</td> <td>   -5.464</td> <td> 0.000</td> <td>   -0.061</td> <td>   -0.029</td>\n",
       "</tr>\n",
       "<tr>\n",
       "  <th>SibSp</th>    <td>   -0.3666</td> <td>    0.105</td> <td>   -3.478</td> <td> 0.001</td> <td>   -0.573</td> <td>   -0.160</td>\n",
       "</tr>\n",
       "<tr>\n",
       "  <th>Sex_male</th> <td>   -2.6946</td> <td>    0.196</td> <td>  -13.726</td> <td> 0.000</td> <td>   -3.079</td> <td>   -2.310</td>\n",
       "</tr>\n",
       "</table>"
      ],
      "text/plain": [
       "<class 'statsmodels.iolib.summary.Summary'>\n",
       "\"\"\"\n",
       "                           Logit Regression Results                           \n",
       "==============================================================================\n",
       "Dep. Variable:               Survived   No. Observations:                  869\n",
       "Model:                          Logit   Df Residuals:                      864\n",
       "Method:                           MLE   Df Model:                            4\n",
       "Date:                Tue, 12 Oct 2021   Pseudo R-squ.:                  0.3269\n",
       "Time:                        23:25:50   Log-Likelihood:                -386.98\n",
       "converged:                       True   LL-Null:                       -574.96\n",
       "Covariance Type:            nonrobust   LLR p-value:                 4.336e-80\n",
       "==============================================================================\n",
       "                 coef    std err          z      P>|z|      [0.025      0.975]\n",
       "------------------------------------------------------------------------------\n",
       "const          5.5294      0.525     10.537      0.000       4.501       6.558\n",
       "Pclass        -1.2726      0.131     -9.736      0.000      -1.529      -1.016\n",
       "Age           -0.0450      0.008     -5.464      0.000      -0.061      -0.029\n",
       "SibSp         -0.3666      0.105     -3.478      0.001      -0.573      -0.160\n",
       "Sex_male      -2.6946      0.196    -13.726      0.000      -3.079      -2.310\n",
       "==============================================================================\n",
       "\"\"\""
      ]
     },
     "execution_count": 43,
     "metadata": {},
     "output_type": "execute_result"
    }
   ],
   "source": [
    "x3=sm.add_constant(X_final)\n",
    "model=sm.Logit(y_train,x3)\n",
    "result=model.fit()\n",
    "\n",
    "result.summary()"
   ]
  },
  {
   "cell_type": "markdown",
   "id": "8c81960c",
   "metadata": {
    "papermill": {
     "duration": 0.085908,
     "end_time": "2021-10-12T23:25:50.527452",
     "exception": false,
     "start_time": "2021-10-12T23:25:50.441544",
     "status": "completed"
    },
    "tags": []
   },
   "source": [
    "### Building The model"
   ]
  },
  {
   "cell_type": "code",
   "execution_count": 44,
   "id": "84608579",
   "metadata": {
    "execution": {
     "iopub.execute_input": "2021-10-12T23:25:50.704216Z",
     "iopub.status.busy": "2021-10-12T23:25:50.703353Z",
     "iopub.status.idle": "2021-10-12T23:25:50.914088Z",
     "shell.execute_reply": "2021-10-12T23:25:50.913304Z",
     "shell.execute_reply.started": "2021-10-12T22:41:14.015096Z"
    },
    "papermill": {
     "duration": 0.301343,
     "end_time": "2021-10-12T23:25:50.914262",
     "exception": false,
     "start_time": "2021-10-12T23:25:50.612919",
     "status": "completed"
    },
    "tags": []
   },
   "outputs": [],
   "source": [
    "from sklearn.linear_model import LogisticRegression"
   ]
  },
  {
   "cell_type": "code",
   "execution_count": 45,
   "id": "14b63156",
   "metadata": {
    "execution": {
     "iopub.execute_input": "2021-10-12T23:25:51.093231Z",
     "iopub.status.busy": "2021-10-12T23:25:51.092468Z",
     "iopub.status.idle": "2021-10-12T23:25:51.094603Z",
     "shell.execute_reply": "2021-10-12T23:25:51.095099Z",
     "shell.execute_reply.started": "2021-10-12T22:41:14.229746Z"
    },
    "papermill": {
     "duration": 0.096216,
     "end_time": "2021-10-12T23:25:51.095306",
     "exception": false,
     "start_time": "2021-10-12T23:25:50.999090",
     "status": "completed"
    },
    "tags": []
   },
   "outputs": [],
   "source": [
    "logmodel=LogisticRegression()"
   ]
  },
  {
   "cell_type": "code",
   "execution_count": 46,
   "id": "a02b7d16",
   "metadata": {
    "execution": {
     "iopub.execute_input": "2021-10-12T23:25:51.270645Z",
     "iopub.status.busy": "2021-10-12T23:25:51.269958Z",
     "iopub.status.idle": "2021-10-12T23:25:51.297827Z",
     "shell.execute_reply": "2021-10-12T23:25:51.298436Z",
     "shell.execute_reply.started": "2021-10-12T22:41:14.236348Z"
    },
    "papermill": {
     "duration": 0.116556,
     "end_time": "2021-10-12T23:25:51.298660",
     "exception": false,
     "start_time": "2021-10-12T23:25:51.182104",
     "status": "completed"
    },
    "tags": []
   },
   "outputs": [
    {
     "data": {
      "text/plain": [
       "LogisticRegression()"
      ]
     },
     "execution_count": 46,
     "metadata": {},
     "output_type": "execute_result"
    }
   ],
   "source": [
    "logmodel.fit(X_final,y_train)"
   ]
  },
  {
   "cell_type": "markdown",
   "id": "026fa1a5",
   "metadata": {
    "papermill": {
     "duration": 0.08479,
     "end_time": "2021-10-12T23:25:51.468886",
     "exception": false,
     "start_time": "2021-10-12T23:25:51.384096",
     "status": "completed"
    },
    "tags": []
   },
   "source": [
    "### Preparing The test data before using it"
   ]
  },
  {
   "cell_type": "code",
   "execution_count": 47,
   "id": "9b52722c",
   "metadata": {
    "execution": {
     "iopub.execute_input": "2021-10-12T23:25:51.643310Z",
     "iopub.status.busy": "2021-10-12T23:25:51.642636Z",
     "iopub.status.idle": "2021-10-12T23:25:51.670853Z",
     "shell.execute_reply": "2021-10-12T23:25:51.671379Z",
     "shell.execute_reply.started": "2021-10-12T22:41:14.272008Z"
    },
    "papermill": {
     "duration": 0.117478,
     "end_time": "2021-10-12T23:25:51.671609",
     "exception": false,
     "start_time": "2021-10-12T23:25:51.554131",
     "status": "completed"
    },
    "tags": []
   },
   "outputs": [
    {
     "data": {
      "text/html": [
       "<div>\n",
       "<style scoped>\n",
       "    .dataframe tbody tr th:only-of-type {\n",
       "        vertical-align: middle;\n",
       "    }\n",
       "\n",
       "    .dataframe tbody tr th {\n",
       "        vertical-align: top;\n",
       "    }\n",
       "\n",
       "    .dataframe thead th {\n",
       "        text-align: right;\n",
       "    }\n",
       "</style>\n",
       "<table border=\"1\" class=\"dataframe\">\n",
       "  <thead>\n",
       "    <tr style=\"text-align: right;\">\n",
       "      <th></th>\n",
       "      <th>PassengerId</th>\n",
       "      <th>Pclass</th>\n",
       "      <th>Name</th>\n",
       "      <th>Sex</th>\n",
       "      <th>Age</th>\n",
       "      <th>SibSp</th>\n",
       "      <th>Parch</th>\n",
       "      <th>Ticket</th>\n",
       "      <th>Fare</th>\n",
       "      <th>Cabin</th>\n",
       "      <th>Embarked</th>\n",
       "    </tr>\n",
       "  </thead>\n",
       "  <tbody>\n",
       "    <tr>\n",
       "      <th>0</th>\n",
       "      <td>892</td>\n",
       "      <td>3</td>\n",
       "      <td>Kelly, Mr. James</td>\n",
       "      <td>male</td>\n",
       "      <td>34.5</td>\n",
       "      <td>0</td>\n",
       "      <td>0</td>\n",
       "      <td>330911</td>\n",
       "      <td>7.8292</td>\n",
       "      <td>NaN</td>\n",
       "      <td>Q</td>\n",
       "    </tr>\n",
       "    <tr>\n",
       "      <th>1</th>\n",
       "      <td>893</td>\n",
       "      <td>3</td>\n",
       "      <td>Wilkes, Mrs. James (Ellen Needs)</td>\n",
       "      <td>female</td>\n",
       "      <td>47.0</td>\n",
       "      <td>1</td>\n",
       "      <td>0</td>\n",
       "      <td>363272</td>\n",
       "      <td>7.0000</td>\n",
       "      <td>NaN</td>\n",
       "      <td>S</td>\n",
       "    </tr>\n",
       "    <tr>\n",
       "      <th>2</th>\n",
       "      <td>894</td>\n",
       "      <td>2</td>\n",
       "      <td>Myles, Mr. Thomas Francis</td>\n",
       "      <td>male</td>\n",
       "      <td>62.0</td>\n",
       "      <td>0</td>\n",
       "      <td>0</td>\n",
       "      <td>240276</td>\n",
       "      <td>9.6875</td>\n",
       "      <td>NaN</td>\n",
       "      <td>Q</td>\n",
       "    </tr>\n",
       "    <tr>\n",
       "      <th>3</th>\n",
       "      <td>895</td>\n",
       "      <td>3</td>\n",
       "      <td>Wirz, Mr. Albert</td>\n",
       "      <td>male</td>\n",
       "      <td>27.0</td>\n",
       "      <td>0</td>\n",
       "      <td>0</td>\n",
       "      <td>315154</td>\n",
       "      <td>8.6625</td>\n",
       "      <td>NaN</td>\n",
       "      <td>S</td>\n",
       "    </tr>\n",
       "    <tr>\n",
       "      <th>4</th>\n",
       "      <td>896</td>\n",
       "      <td>3</td>\n",
       "      <td>Hirvonen, Mrs. Alexander (Helga E Lindqvist)</td>\n",
       "      <td>female</td>\n",
       "      <td>22.0</td>\n",
       "      <td>1</td>\n",
       "      <td>1</td>\n",
       "      <td>3101298</td>\n",
       "      <td>12.2875</td>\n",
       "      <td>NaN</td>\n",
       "      <td>S</td>\n",
       "    </tr>\n",
       "  </tbody>\n",
       "</table>\n",
       "</div>"
      ],
      "text/plain": [
       "   PassengerId  Pclass                                          Name     Sex  \\\n",
       "0          892       3                              Kelly, Mr. James    male   \n",
       "1          893       3              Wilkes, Mrs. James (Ellen Needs)  female   \n",
       "2          894       2                     Myles, Mr. Thomas Francis    male   \n",
       "3          895       3                              Wirz, Mr. Albert    male   \n",
       "4          896       3  Hirvonen, Mrs. Alexander (Helga E Lindqvist)  female   \n",
       "\n",
       "    Age  SibSp  Parch   Ticket     Fare Cabin Embarked  \n",
       "0  34.5      0      0   330911   7.8292   NaN        Q  \n",
       "1  47.0      1      0   363272   7.0000   NaN        S  \n",
       "2  62.0      0      0   240276   9.6875   NaN        Q  \n",
       "3  27.0      0      0   315154   8.6625   NaN        S  \n",
       "4  22.0      1      1  3101298  12.2875   NaN        S  "
      ]
     },
     "execution_count": 47,
     "metadata": {},
     "output_type": "execute_result"
    }
   ],
   "source": [
    "df_test = pd.read_csv('../input/titanic/test.csv')\n",
    "df_test.head()"
   ]
  },
  {
   "cell_type": "code",
   "execution_count": 48,
   "id": "795fdeb4",
   "metadata": {
    "execution": {
     "iopub.execute_input": "2021-10-12T23:25:51.857128Z",
     "iopub.status.busy": "2021-10-12T23:25:51.848143Z",
     "iopub.status.idle": "2021-10-12T23:25:51.878438Z",
     "shell.execute_reply": "2021-10-12T23:25:51.877834Z",
     "shell.execute_reply.started": "2021-10-12T22:41:14.301561Z"
    },
    "papermill": {
     "duration": 0.120683,
     "end_time": "2021-10-12T23:25:51.878610",
     "exception": false,
     "start_time": "2021-10-12T23:25:51.757927",
     "status": "completed"
    },
    "tags": []
   },
   "outputs": [
    {
     "data": {
      "text/html": [
       "<div>\n",
       "<style scoped>\n",
       "    .dataframe tbody tr th:only-of-type {\n",
       "        vertical-align: middle;\n",
       "    }\n",
       "\n",
       "    .dataframe tbody tr th {\n",
       "        vertical-align: top;\n",
       "    }\n",
       "\n",
       "    .dataframe thead th {\n",
       "        text-align: right;\n",
       "    }\n",
       "</style>\n",
       "<table border=\"1\" class=\"dataframe\">\n",
       "  <thead>\n",
       "    <tr style=\"text-align: right;\">\n",
       "      <th></th>\n",
       "      <th>PassengerId</th>\n",
       "      <th>Pclass</th>\n",
       "      <th>Age</th>\n",
       "      <th>SibSp</th>\n",
       "      <th>Parch</th>\n",
       "      <th>Fare</th>\n",
       "    </tr>\n",
       "  </thead>\n",
       "  <tbody>\n",
       "    <tr>\n",
       "      <th>count</th>\n",
       "      <td>418.000000</td>\n",
       "      <td>418.000000</td>\n",
       "      <td>332.000000</td>\n",
       "      <td>418.000000</td>\n",
       "      <td>418.000000</td>\n",
       "      <td>417.000000</td>\n",
       "    </tr>\n",
       "    <tr>\n",
       "      <th>mean</th>\n",
       "      <td>1100.500000</td>\n",
       "      <td>2.265550</td>\n",
       "      <td>30.272590</td>\n",
       "      <td>0.447368</td>\n",
       "      <td>0.392344</td>\n",
       "      <td>35.627188</td>\n",
       "    </tr>\n",
       "    <tr>\n",
       "      <th>std</th>\n",
       "      <td>120.810458</td>\n",
       "      <td>0.841838</td>\n",
       "      <td>14.181209</td>\n",
       "      <td>0.896760</td>\n",
       "      <td>0.981429</td>\n",
       "      <td>55.907576</td>\n",
       "    </tr>\n",
       "    <tr>\n",
       "      <th>min</th>\n",
       "      <td>892.000000</td>\n",
       "      <td>1.000000</td>\n",
       "      <td>0.170000</td>\n",
       "      <td>0.000000</td>\n",
       "      <td>0.000000</td>\n",
       "      <td>0.000000</td>\n",
       "    </tr>\n",
       "    <tr>\n",
       "      <th>25%</th>\n",
       "      <td>996.250000</td>\n",
       "      <td>1.000000</td>\n",
       "      <td>21.000000</td>\n",
       "      <td>0.000000</td>\n",
       "      <td>0.000000</td>\n",
       "      <td>7.895800</td>\n",
       "    </tr>\n",
       "    <tr>\n",
       "      <th>50%</th>\n",
       "      <td>1100.500000</td>\n",
       "      <td>3.000000</td>\n",
       "      <td>27.000000</td>\n",
       "      <td>0.000000</td>\n",
       "      <td>0.000000</td>\n",
       "      <td>14.454200</td>\n",
       "    </tr>\n",
       "    <tr>\n",
       "      <th>75%</th>\n",
       "      <td>1204.750000</td>\n",
       "      <td>3.000000</td>\n",
       "      <td>39.000000</td>\n",
       "      <td>1.000000</td>\n",
       "      <td>0.000000</td>\n",
       "      <td>31.500000</td>\n",
       "    </tr>\n",
       "    <tr>\n",
       "      <th>max</th>\n",
       "      <td>1309.000000</td>\n",
       "      <td>3.000000</td>\n",
       "      <td>76.000000</td>\n",
       "      <td>8.000000</td>\n",
       "      <td>9.000000</td>\n",
       "      <td>512.329200</td>\n",
       "    </tr>\n",
       "  </tbody>\n",
       "</table>\n",
       "</div>"
      ],
      "text/plain": [
       "       PassengerId      Pclass         Age       SibSp       Parch        Fare\n",
       "count   418.000000  418.000000  332.000000  418.000000  418.000000  417.000000\n",
       "mean   1100.500000    2.265550   30.272590    0.447368    0.392344   35.627188\n",
       "std     120.810458    0.841838   14.181209    0.896760    0.981429   55.907576\n",
       "min     892.000000    1.000000    0.170000    0.000000    0.000000    0.000000\n",
       "25%     996.250000    1.000000   21.000000    0.000000    0.000000    7.895800\n",
       "50%    1100.500000    3.000000   27.000000    0.000000    0.000000   14.454200\n",
       "75%    1204.750000    3.000000   39.000000    1.000000    0.000000   31.500000\n",
       "max    1309.000000    3.000000   76.000000    8.000000    9.000000  512.329200"
      ]
     },
     "execution_count": 48,
     "metadata": {},
     "output_type": "execute_result"
    }
   ],
   "source": [
    "df_test.describe()"
   ]
  },
  {
   "cell_type": "code",
   "execution_count": 49,
   "id": "a07b404b",
   "metadata": {
    "execution": {
     "iopub.execute_input": "2021-10-12T23:25:52.054169Z",
     "iopub.status.busy": "2021-10-12T23:25:52.053447Z",
     "iopub.status.idle": "2021-10-12T23:25:52.067966Z",
     "shell.execute_reply": "2021-10-12T23:25:52.068458Z",
     "shell.execute_reply.started": "2021-10-12T22:41:14.337606Z"
    },
    "papermill": {
     "duration": 0.103599,
     "end_time": "2021-10-12T23:25:52.068664",
     "exception": false,
     "start_time": "2021-10-12T23:25:51.965065",
     "status": "completed"
    },
    "tags": []
   },
   "outputs": [],
   "source": [
    "df_test['Age']=df_test[['Age','Pclass']].apply(f,axis=1)"
   ]
  },
  {
   "cell_type": "code",
   "execution_count": 50,
   "id": "871d08bc",
   "metadata": {
    "execution": {
     "iopub.execute_input": "2021-10-12T23:25:52.246720Z",
     "iopub.status.busy": "2021-10-12T23:25:52.245973Z",
     "iopub.status.idle": "2021-10-12T23:25:52.256652Z",
     "shell.execute_reply": "2021-10-12T23:25:52.257157Z",
     "shell.execute_reply.started": "2021-10-12T22:41:14.355214Z"
    },
    "papermill": {
     "duration": 0.102535,
     "end_time": "2021-10-12T23:25:52.257353",
     "exception": false,
     "start_time": "2021-10-12T23:25:52.154818",
     "status": "completed"
    },
    "tags": []
   },
   "outputs": [
    {
     "data": {
      "text/html": [
       "<div>\n",
       "<style scoped>\n",
       "    .dataframe tbody tr th:only-of-type {\n",
       "        vertical-align: middle;\n",
       "    }\n",
       "\n",
       "    .dataframe tbody tr th {\n",
       "        vertical-align: top;\n",
       "    }\n",
       "\n",
       "    .dataframe thead th {\n",
       "        text-align: right;\n",
       "    }\n",
       "</style>\n",
       "<table border=\"1\" class=\"dataframe\">\n",
       "  <thead>\n",
       "    <tr style=\"text-align: right;\">\n",
       "      <th></th>\n",
       "      <th>Pclass</th>\n",
       "      <th>Sex</th>\n",
       "      <th>Age</th>\n",
       "      <th>SibSp</th>\n",
       "    </tr>\n",
       "  </thead>\n",
       "  <tbody>\n",
       "    <tr>\n",
       "      <th>0</th>\n",
       "      <td>3</td>\n",
       "      <td>male</td>\n",
       "      <td>34.5</td>\n",
       "      <td>0</td>\n",
       "    </tr>\n",
       "    <tr>\n",
       "      <th>1</th>\n",
       "      <td>3</td>\n",
       "      <td>female</td>\n",
       "      <td>47.0</td>\n",
       "      <td>1</td>\n",
       "    </tr>\n",
       "    <tr>\n",
       "      <th>2</th>\n",
       "      <td>2</td>\n",
       "      <td>male</td>\n",
       "      <td>62.0</td>\n",
       "      <td>0</td>\n",
       "    </tr>\n",
       "    <tr>\n",
       "      <th>3</th>\n",
       "      <td>3</td>\n",
       "      <td>male</td>\n",
       "      <td>27.0</td>\n",
       "      <td>0</td>\n",
       "    </tr>\n",
       "    <tr>\n",
       "      <th>4</th>\n",
       "      <td>3</td>\n",
       "      <td>female</td>\n",
       "      <td>22.0</td>\n",
       "      <td>1</td>\n",
       "    </tr>\n",
       "  </tbody>\n",
       "</table>\n",
       "</div>"
      ],
      "text/plain": [
       "   Pclass     Sex   Age  SibSp\n",
       "0       3    male  34.5      0\n",
       "1       3  female  47.0      1\n",
       "2       2    male  62.0      0\n",
       "3       3    male  27.0      0\n",
       "4       3  female  22.0      1"
      ]
     },
     "execution_count": 50,
     "metadata": {},
     "output_type": "execute_result"
    }
   ],
   "source": [
    "df_test_needed=df_test[['Pclass', 'Sex', 'Age', 'SibSp']]\n",
    "df_test_needed.head()"
   ]
  },
  {
   "cell_type": "code",
   "execution_count": 51,
   "id": "f7d15895",
   "metadata": {
    "execution": {
     "iopub.execute_input": "2021-10-12T23:25:52.434197Z",
     "iopub.status.busy": "2021-10-12T23:25:52.433549Z",
     "iopub.status.idle": "2021-10-12T23:25:52.452482Z",
     "shell.execute_reply": "2021-10-12T23:25:52.451961Z",
     "shell.execute_reply.started": "2021-10-12T22:41:14.372524Z"
    },
    "papermill": {
     "duration": 0.108989,
     "end_time": "2021-10-12T23:25:52.452691",
     "exception": false,
     "start_time": "2021-10-12T23:25:52.343702",
     "status": "completed"
    },
    "tags": []
   },
   "outputs": [
    {
     "data": {
      "text/html": [
       "<div>\n",
       "<style scoped>\n",
       "    .dataframe tbody tr th:only-of-type {\n",
       "        vertical-align: middle;\n",
       "    }\n",
       "\n",
       "    .dataframe tbody tr th {\n",
       "        vertical-align: top;\n",
       "    }\n",
       "\n",
       "    .dataframe thead th {\n",
       "        text-align: right;\n",
       "    }\n",
       "</style>\n",
       "<table border=\"1\" class=\"dataframe\">\n",
       "  <thead>\n",
       "    <tr style=\"text-align: right;\">\n",
       "      <th></th>\n",
       "      <th>Pclass</th>\n",
       "      <th>Age</th>\n",
       "      <th>SibSp</th>\n",
       "    </tr>\n",
       "  </thead>\n",
       "  <tbody>\n",
       "    <tr>\n",
       "      <th>count</th>\n",
       "      <td>418.000000</td>\n",
       "      <td>418.000000</td>\n",
       "      <td>418.000000</td>\n",
       "    </tr>\n",
       "    <tr>\n",
       "      <th>mean</th>\n",
       "      <td>2.265550</td>\n",
       "      <td>29.343301</td>\n",
       "      <td>0.447368</td>\n",
       "    </tr>\n",
       "    <tr>\n",
       "      <th>std</th>\n",
       "      <td>0.841838</td>\n",
       "      <td>12.917718</td>\n",
       "      <td>0.896760</td>\n",
       "    </tr>\n",
       "    <tr>\n",
       "      <th>min</th>\n",
       "      <td>1.000000</td>\n",
       "      <td>0.170000</td>\n",
       "      <td>0.000000</td>\n",
       "    </tr>\n",
       "    <tr>\n",
       "      <th>25%</th>\n",
       "      <td>1.000000</td>\n",
       "      <td>23.000000</td>\n",
       "      <td>0.000000</td>\n",
       "    </tr>\n",
       "    <tr>\n",
       "      <th>50%</th>\n",
       "      <td>3.000000</td>\n",
       "      <td>25.000000</td>\n",
       "      <td>0.000000</td>\n",
       "    </tr>\n",
       "    <tr>\n",
       "      <th>75%</th>\n",
       "      <td>3.000000</td>\n",
       "      <td>36.375000</td>\n",
       "      <td>1.000000</td>\n",
       "    </tr>\n",
       "    <tr>\n",
       "      <th>max</th>\n",
       "      <td>3.000000</td>\n",
       "      <td>76.000000</td>\n",
       "      <td>8.000000</td>\n",
       "    </tr>\n",
       "  </tbody>\n",
       "</table>\n",
       "</div>"
      ],
      "text/plain": [
       "           Pclass         Age       SibSp\n",
       "count  418.000000  418.000000  418.000000\n",
       "mean     2.265550   29.343301    0.447368\n",
       "std      0.841838   12.917718    0.896760\n",
       "min      1.000000    0.170000    0.000000\n",
       "25%      1.000000   23.000000    0.000000\n",
       "50%      3.000000   25.000000    0.000000\n",
       "75%      3.000000   36.375000    1.000000\n",
       "max      3.000000   76.000000    8.000000"
      ]
     },
     "execution_count": 51,
     "metadata": {},
     "output_type": "execute_result"
    }
   ],
   "source": [
    "df_test_needed.describe()"
   ]
  },
  {
   "cell_type": "code",
   "execution_count": 52,
   "id": "f7936389",
   "metadata": {
    "execution": {
     "iopub.execute_input": "2021-10-12T23:25:52.643475Z",
     "iopub.status.busy": "2021-10-12T23:25:52.642798Z",
     "iopub.status.idle": "2021-10-12T23:25:52.645705Z",
     "shell.execute_reply": "2021-10-12T23:25:52.646232Z",
     "shell.execute_reply.started": "2021-10-12T22:41:14.404695Z"
    },
    "papermill": {
     "duration": 0.106539,
     "end_time": "2021-10-12T23:25:52.646438",
     "exception": false,
     "start_time": "2021-10-12T23:25:52.539899",
     "status": "completed"
    },
    "tags": []
   },
   "outputs": [
    {
     "data": {
      "text/html": [
       "<div>\n",
       "<style scoped>\n",
       "    .dataframe tbody tr th:only-of-type {\n",
       "        vertical-align: middle;\n",
       "    }\n",
       "\n",
       "    .dataframe tbody tr th {\n",
       "        vertical-align: top;\n",
       "    }\n",
       "\n",
       "    .dataframe thead th {\n",
       "        text-align: right;\n",
       "    }\n",
       "</style>\n",
       "<table border=\"1\" class=\"dataframe\">\n",
       "  <thead>\n",
       "    <tr style=\"text-align: right;\">\n",
       "      <th></th>\n",
       "      <th>Pclass</th>\n",
       "      <th>Age</th>\n",
       "      <th>SibSp</th>\n",
       "      <th>Sex_male</th>\n",
       "    </tr>\n",
       "  </thead>\n",
       "  <tbody>\n",
       "    <tr>\n",
       "      <th>0</th>\n",
       "      <td>3</td>\n",
       "      <td>34.5</td>\n",
       "      <td>0</td>\n",
       "      <td>1</td>\n",
       "    </tr>\n",
       "    <tr>\n",
       "      <th>1</th>\n",
       "      <td>3</td>\n",
       "      <td>47.0</td>\n",
       "      <td>1</td>\n",
       "      <td>0</td>\n",
       "    </tr>\n",
       "    <tr>\n",
       "      <th>2</th>\n",
       "      <td>2</td>\n",
       "      <td>62.0</td>\n",
       "      <td>0</td>\n",
       "      <td>1</td>\n",
       "    </tr>\n",
       "    <tr>\n",
       "      <th>3</th>\n",
       "      <td>3</td>\n",
       "      <td>27.0</td>\n",
       "      <td>0</td>\n",
       "      <td>1</td>\n",
       "    </tr>\n",
       "    <tr>\n",
       "      <th>4</th>\n",
       "      <td>3</td>\n",
       "      <td>22.0</td>\n",
       "      <td>1</td>\n",
       "      <td>0</td>\n",
       "    </tr>\n",
       "  </tbody>\n",
       "</table>\n",
       "</div>"
      ],
      "text/plain": [
       "   Pclass   Age  SibSp  Sex_male\n",
       "0       3  34.5      0         1\n",
       "1       3  47.0      1         0\n",
       "2       2  62.0      0         1\n",
       "3       3  27.0      0         1\n",
       "4       3  22.0      1         0"
      ]
     },
     "execution_count": 52,
     "metadata": {},
     "output_type": "execute_result"
    }
   ],
   "source": [
    "x_test_dummies=pd.get_dummies(df_test_needed,drop_first=True)\n",
    "x_test_dummies.head()"
   ]
  },
  {
   "cell_type": "markdown",
   "id": "3749c910",
   "metadata": {
    "papermill": {
     "duration": 0.087605,
     "end_time": "2021-10-12T23:25:52.822452",
     "exception": false,
     "start_time": "2021-10-12T23:25:52.734847",
     "status": "completed"
    },
    "tags": []
   },
   "source": [
    "### Getting the predictions"
   ]
  },
  {
   "cell_type": "code",
   "execution_count": 53,
   "id": "30f81241",
   "metadata": {
    "execution": {
     "iopub.execute_input": "2021-10-12T23:25:53.004054Z",
     "iopub.status.busy": "2021-10-12T23:25:53.003240Z",
     "iopub.status.idle": "2021-10-12T23:25:53.008756Z",
     "shell.execute_reply": "2021-10-12T23:25:53.009289Z",
     "shell.execute_reply.started": "2021-10-12T22:41:14.422850Z"
    },
    "papermill": {
     "duration": 0.098372,
     "end_time": "2021-10-12T23:25:53.009539",
     "exception": false,
     "start_time": "2021-10-12T23:25:52.911167",
     "status": "completed"
    },
    "tags": []
   },
   "outputs": [],
   "source": [
    "predictions=logmodel.predict(x_test_dummies)"
   ]
  },
  {
   "cell_type": "code",
   "execution_count": 54,
   "id": "773a2ed0",
   "metadata": {
    "execution": {
     "iopub.execute_input": "2021-10-12T23:25:53.195697Z",
     "iopub.status.busy": "2021-10-12T23:25:53.194651Z",
     "iopub.status.idle": "2021-10-12T23:25:53.197955Z",
     "shell.execute_reply": "2021-10-12T23:25:53.198443Z",
     "shell.execute_reply.started": "2021-10-12T23:18:10.298031Z"
    },
    "papermill": {
     "duration": 0.100216,
     "end_time": "2021-10-12T23:25:53.198650",
     "exception": false,
     "start_time": "2021-10-12T23:25:53.098434",
     "status": "completed"
    },
    "tags": []
   },
   "outputs": [
    {
     "data": {
      "text/html": [
       "<div>\n",
       "<style scoped>\n",
       "    .dataframe tbody tr th:only-of-type {\n",
       "        vertical-align: middle;\n",
       "    }\n",
       "\n",
       "    .dataframe tbody tr th {\n",
       "        vertical-align: top;\n",
       "    }\n",
       "\n",
       "    .dataframe thead th {\n",
       "        text-align: right;\n",
       "    }\n",
       "</style>\n",
       "<table border=\"1\" class=\"dataframe\">\n",
       "  <thead>\n",
       "    <tr style=\"text-align: right;\">\n",
       "      <th></th>\n",
       "      <th>pred</th>\n",
       "    </tr>\n",
       "  </thead>\n",
       "  <tbody>\n",
       "    <tr>\n",
       "      <th>0</th>\n",
       "      <td>0</td>\n",
       "    </tr>\n",
       "    <tr>\n",
       "      <th>1</th>\n",
       "      <td>0</td>\n",
       "    </tr>\n",
       "    <tr>\n",
       "      <th>2</th>\n",
       "      <td>0</td>\n",
       "    </tr>\n",
       "    <tr>\n",
       "      <th>3</th>\n",
       "      <td>0</td>\n",
       "    </tr>\n",
       "    <tr>\n",
       "      <th>4</th>\n",
       "      <td>1</td>\n",
       "    </tr>\n",
       "  </tbody>\n",
       "</table>\n",
       "</div>"
      ],
      "text/plain": [
       "   pred\n",
       "0     0\n",
       "1     0\n",
       "2     0\n",
       "3     0\n",
       "4     1"
      ]
     },
     "execution_count": 54,
     "metadata": {},
     "output_type": "execute_result"
    }
   ],
   "source": [
    "pred=pd.DataFrame(predictions,columns=['pred'])\n",
    "pred.head()"
   ]
  },
  {
   "cell_type": "markdown",
   "id": "8207606a",
   "metadata": {
    "papermill": {
     "duration": 0.086638,
     "end_time": "2021-10-12T23:25:53.373255",
     "exception": false,
     "start_time": "2021-10-12T23:25:53.286617",
     "status": "completed"
    },
    "tags": []
   },
   "source": [
    "### Evaluating the predictions"
   ]
  },
  {
   "cell_type": "code",
   "execution_count": 55,
   "id": "fed90360",
   "metadata": {
    "execution": {
     "iopub.execute_input": "2021-10-12T23:25:53.554121Z",
     "iopub.status.busy": "2021-10-12T23:25:53.551899Z",
     "iopub.status.idle": "2021-10-12T23:25:53.572733Z",
     "shell.execute_reply": "2021-10-12T23:25:53.573256Z",
     "shell.execute_reply.started": "2021-10-12T22:46:59.295442Z"
    },
    "papermill": {
     "duration": 0.113591,
     "end_time": "2021-10-12T23:25:53.573455",
     "exception": false,
     "start_time": "2021-10-12T23:25:53.459864",
     "status": "completed"
    },
    "tags": []
   },
   "outputs": [
    {
     "data": {
      "text/html": [
       "<div>\n",
       "<style scoped>\n",
       "    .dataframe tbody tr th:only-of-type {\n",
       "        vertical-align: middle;\n",
       "    }\n",
       "\n",
       "    .dataframe tbody tr th {\n",
       "        vertical-align: top;\n",
       "    }\n",
       "\n",
       "    .dataframe thead th {\n",
       "        text-align: right;\n",
       "    }\n",
       "</style>\n",
       "<table border=\"1\" class=\"dataframe\">\n",
       "  <thead>\n",
       "    <tr style=\"text-align: right;\">\n",
       "      <th></th>\n",
       "      <th>PassengerId</th>\n",
       "      <th>Survived</th>\n",
       "      <th>predictions</th>\n",
       "    </tr>\n",
       "  </thead>\n",
       "  <tbody>\n",
       "    <tr>\n",
       "      <th>398</th>\n",
       "      <td>1290</td>\n",
       "      <td>0</td>\n",
       "      <td>0</td>\n",
       "    </tr>\n",
       "    <tr>\n",
       "      <th>399</th>\n",
       "      <td>1291</td>\n",
       "      <td>0</td>\n",
       "      <td>0</td>\n",
       "    </tr>\n",
       "    <tr>\n",
       "      <th>400</th>\n",
       "      <td>1292</td>\n",
       "      <td>1</td>\n",
       "      <td>1</td>\n",
       "    </tr>\n",
       "    <tr>\n",
       "      <th>401</th>\n",
       "      <td>1293</td>\n",
       "      <td>0</td>\n",
       "      <td>0</td>\n",
       "    </tr>\n",
       "    <tr>\n",
       "      <th>402</th>\n",
       "      <td>1294</td>\n",
       "      <td>1</td>\n",
       "      <td>1</td>\n",
       "    </tr>\n",
       "    <tr>\n",
       "      <th>403</th>\n",
       "      <td>1295</td>\n",
       "      <td>0</td>\n",
       "      <td>1</td>\n",
       "    </tr>\n",
       "    <tr>\n",
       "      <th>404</th>\n",
       "      <td>1296</td>\n",
       "      <td>0</td>\n",
       "      <td>0</td>\n",
       "    </tr>\n",
       "    <tr>\n",
       "      <th>405</th>\n",
       "      <td>1297</td>\n",
       "      <td>0</td>\n",
       "      <td>0</td>\n",
       "    </tr>\n",
       "    <tr>\n",
       "      <th>406</th>\n",
       "      <td>1298</td>\n",
       "      <td>0</td>\n",
       "      <td>0</td>\n",
       "    </tr>\n",
       "    <tr>\n",
       "      <th>407</th>\n",
       "      <td>1299</td>\n",
       "      <td>0</td>\n",
       "      <td>0</td>\n",
       "    </tr>\n",
       "    <tr>\n",
       "      <th>408</th>\n",
       "      <td>1300</td>\n",
       "      <td>1</td>\n",
       "      <td>1</td>\n",
       "    </tr>\n",
       "    <tr>\n",
       "      <th>409</th>\n",
       "      <td>1301</td>\n",
       "      <td>1</td>\n",
       "      <td>1</td>\n",
       "    </tr>\n",
       "    <tr>\n",
       "      <th>410</th>\n",
       "      <td>1302</td>\n",
       "      <td>1</td>\n",
       "      <td>1</td>\n",
       "    </tr>\n",
       "    <tr>\n",
       "      <th>411</th>\n",
       "      <td>1303</td>\n",
       "      <td>1</td>\n",
       "      <td>1</td>\n",
       "    </tr>\n",
       "    <tr>\n",
       "      <th>412</th>\n",
       "      <td>1304</td>\n",
       "      <td>1</td>\n",
       "      <td>1</td>\n",
       "    </tr>\n",
       "    <tr>\n",
       "      <th>413</th>\n",
       "      <td>1305</td>\n",
       "      <td>0</td>\n",
       "      <td>0</td>\n",
       "    </tr>\n",
       "    <tr>\n",
       "      <th>414</th>\n",
       "      <td>1306</td>\n",
       "      <td>1</td>\n",
       "      <td>1</td>\n",
       "    </tr>\n",
       "    <tr>\n",
       "      <th>415</th>\n",
       "      <td>1307</td>\n",
       "      <td>0</td>\n",
       "      <td>0</td>\n",
       "    </tr>\n",
       "    <tr>\n",
       "      <th>416</th>\n",
       "      <td>1308</td>\n",
       "      <td>0</td>\n",
       "      <td>0</td>\n",
       "    </tr>\n",
       "    <tr>\n",
       "      <th>417</th>\n",
       "      <td>1309</td>\n",
       "      <td>0</td>\n",
       "      <td>0</td>\n",
       "    </tr>\n",
       "  </tbody>\n",
       "</table>\n",
       "</div>"
      ],
      "text/plain": [
       "     PassengerId  Survived  predictions\n",
       "398         1290         0            0\n",
       "399         1291         0            0\n",
       "400         1292         1            1\n",
       "401         1293         0            0\n",
       "402         1294         1            1\n",
       "403         1295         0            1\n",
       "404         1296         0            0\n",
       "405         1297         0            0\n",
       "406         1298         0            0\n",
       "407         1299         0            0\n",
       "408         1300         1            1\n",
       "409         1301         1            1\n",
       "410         1302         1            1\n",
       "411         1303         1            1\n",
       "412         1304         1            1\n",
       "413         1305         0            0\n",
       "414         1306         1            1\n",
       "415         1307         0            0\n",
       "416         1308         0            0\n",
       "417         1309         0            0"
      ]
     },
     "execution_count": 55,
     "metadata": {},
     "output_type": "execute_result"
    }
   ],
   "source": [
    "sub = pd.read_csv('../input/titanic/gender_submission.csv')\n",
    "sub_compare=sub.copy()\n",
    "sub_compare['predictions']=predictions\n",
    "#pd.set_option('display.max_rows', None)\n",
    "sub_compare.tail(20)"
   ]
  },
  {
   "cell_type": "code",
   "execution_count": 56,
   "id": "1aab94f0",
   "metadata": {
    "execution": {
     "iopub.execute_input": "2021-10-12T23:25:53.755274Z",
     "iopub.status.busy": "2021-10-12T23:25:53.754291Z",
     "iopub.status.idle": "2021-10-12T23:25:53.758288Z",
     "shell.execute_reply": "2021-10-12T23:25:53.758763Z",
     "shell.execute_reply.started": "2021-10-12T22:47:00.097521Z"
    },
    "papermill": {
     "duration": 0.096933,
     "end_time": "2021-10-12T23:25:53.758966",
     "exception": false,
     "start_time": "2021-10-12T23:25:53.662033",
     "status": "completed"
    },
    "tags": []
   },
   "outputs": [],
   "source": [
    "from sklearn.metrics import classification_report,confusion_matrix"
   ]
  },
  {
   "cell_type": "code",
   "execution_count": 57,
   "id": "efaa6c41",
   "metadata": {
    "execution": {
     "iopub.execute_input": "2021-10-12T23:25:53.943533Z",
     "iopub.status.busy": "2021-10-12T23:25:53.942818Z",
     "iopub.status.idle": "2021-10-12T23:25:53.945570Z",
     "shell.execute_reply": "2021-10-12T23:25:53.946160Z",
     "shell.execute_reply.started": "2021-10-12T22:47:02.849673Z"
    },
    "papermill": {
     "duration": 0.099244,
     "end_time": "2021-10-12T23:25:53.946367",
     "exception": false,
     "start_time": "2021-10-12T23:25:53.847123",
     "status": "completed"
    },
    "tags": []
   },
   "outputs": [
    {
     "data": {
      "text/plain": [
       "Index(['PassengerId', 'Survived', 'predictions'], dtype='object')"
      ]
     },
     "execution_count": 57,
     "metadata": {},
     "output_type": "execute_result"
    }
   ],
   "source": [
    "sub_compare.columns"
   ]
  },
  {
   "cell_type": "code",
   "execution_count": 58,
   "id": "bb526d68",
   "metadata": {
    "execution": {
     "iopub.execute_input": "2021-10-12T23:25:54.126143Z",
     "iopub.status.busy": "2021-10-12T23:25:54.125470Z",
     "iopub.status.idle": "2021-10-12T23:25:54.139981Z",
     "shell.execute_reply": "2021-10-12T23:25:54.139307Z",
     "shell.execute_reply.started": "2021-10-12T22:47:04.192145Z"
    },
    "papermill": {
     "duration": 0.105569,
     "end_time": "2021-10-12T23:25:54.140123",
     "exception": false,
     "start_time": "2021-10-12T23:25:54.034554",
     "status": "completed"
    },
    "tags": []
   },
   "outputs": [
    {
     "data": {
      "text/plain": [
       "array([[252,  14],\n",
       "       [ 12, 140]])"
      ]
     },
     "execution_count": 58,
     "metadata": {},
     "output_type": "execute_result"
    }
   ],
   "source": [
    "confusion_matrix(sub_compare['Survived'],pred)"
   ]
  },
  {
   "cell_type": "code",
   "execution_count": 59,
   "id": "9f9561ee",
   "metadata": {
    "execution": {
     "iopub.execute_input": "2021-10-12T23:25:54.403418Z",
     "iopub.status.busy": "2021-10-12T23:25:54.402708Z",
     "iopub.status.idle": "2021-10-12T23:25:54.417884Z",
     "shell.execute_reply": "2021-10-12T23:25:54.417307Z",
     "shell.execute_reply.started": "2021-10-12T22:47:06.101023Z"
    },
    "papermill": {
     "duration": 0.109857,
     "end_time": "2021-10-12T23:25:54.418065",
     "exception": false,
     "start_time": "2021-10-12T23:25:54.308208",
     "status": "completed"
    },
    "tags": []
   },
   "outputs": [
    {
     "data": {
      "text/html": [
       "<div>\n",
       "<style scoped>\n",
       "    .dataframe tbody tr th:only-of-type {\n",
       "        vertical-align: middle;\n",
       "    }\n",
       "\n",
       "    .dataframe tbody tr th {\n",
       "        vertical-align: top;\n",
       "    }\n",
       "\n",
       "    .dataframe thead tr th {\n",
       "        text-align: left;\n",
       "    }\n",
       "</style>\n",
       "<table border=\"1\" class=\"dataframe\">\n",
       "  <thead>\n",
       "    <tr>\n",
       "      <th></th>\n",
       "      <th>predicted No</th>\n",
       "      <th>predicted Yes</th>\n",
       "    </tr>\n",
       "  </thead>\n",
       "  <tbody>\n",
       "    <tr>\n",
       "      <th>actual No</th>\n",
       "      <td>252</td>\n",
       "      <td>14</td>\n",
       "    </tr>\n",
       "    <tr>\n",
       "      <th>actual Yes</th>\n",
       "      <td>12</td>\n",
       "      <td>140</td>\n",
       "    </tr>\n",
       "  </tbody>\n",
       "</table>\n",
       "</div>"
      ],
      "text/plain": [
       "           predicted No predicted Yes\n",
       "actual No           252            14\n",
       "actual Yes           12           140"
      ]
     },
     "execution_count": 59,
     "metadata": {},
     "output_type": "execute_result"
    }
   ],
   "source": [
    "final_result=pd.DataFrame(confusion_matrix(sub_compare['Survived'],pred),index=[['actual No','actual Yes']],columns=[['predicted No','predicted Yes']])\n",
    "final_result"
   ]
  },
  {
   "cell_type": "code",
   "execution_count": 60,
   "id": "2afc4d5e",
   "metadata": {
    "execution": {
     "iopub.execute_input": "2021-10-12T23:25:54.608630Z",
     "iopub.status.busy": "2021-10-12T23:25:54.607543Z",
     "iopub.status.idle": "2021-10-12T23:25:54.616897Z",
     "shell.execute_reply": "2021-10-12T23:25:54.617465Z",
     "shell.execute_reply.started": "2021-10-12T22:47:07.815420Z"
    },
    "papermill": {
     "duration": 0.108903,
     "end_time": "2021-10-12T23:25:54.617692",
     "exception": false,
     "start_time": "2021-10-12T23:25:54.508789",
     "status": "completed"
    },
    "tags": []
   },
   "outputs": [
    {
     "data": {
      "text/plain": [
       "'              precision    recall  f1-score   support\\n\\n           0       0.95      0.95      0.95       266\\n           1       0.91      0.92      0.92       152\\n\\n    accuracy                           0.94       418\\n   macro avg       0.93      0.93      0.93       418\\nweighted avg       0.94      0.94      0.94       418\\n'"
      ]
     },
     "execution_count": 60,
     "metadata": {},
     "output_type": "execute_result"
    }
   ],
   "source": [
    "classification_report(sub_compare['Survived'],pred)"
   ]
  },
  {
   "cell_type": "markdown",
   "id": "26ecdec5",
   "metadata": {
    "papermill": {
     "duration": 0.090075,
     "end_time": "2021-10-12T23:25:54.797993",
     "exception": false,
     "start_time": "2021-10-12T23:25:54.707918",
     "status": "completed"
    },
    "tags": []
   },
   "source": [
    "### Final submition"
   ]
  },
  {
   "cell_type": "code",
   "execution_count": 61,
   "id": "16c865bc",
   "metadata": {
    "execution": {
     "iopub.execute_input": "2021-10-12T23:25:54.983576Z",
     "iopub.status.busy": "2021-10-12T23:25:54.982870Z",
     "iopub.status.idle": "2021-10-12T23:25:54.994473Z",
     "shell.execute_reply": "2021-10-12T23:25:54.993867Z",
     "shell.execute_reply.started": "2021-10-12T22:51:09.118090Z"
    },
    "papermill": {
     "duration": 0.106027,
     "end_time": "2021-10-12T23:25:54.994694",
     "exception": false,
     "start_time": "2021-10-12T23:25:54.888667",
     "status": "completed"
    },
    "tags": []
   },
   "outputs": [],
   "source": [
    "Final_submition=sub_compare.drop('Survived',axis=1)\n",
    "Final_submition.to_csv('my_submition',index=False)"
   ]
  },
  {
   "cell_type": "markdown",
   "id": "fddd8003",
   "metadata": {
    "papermill": {
     "duration": 0.089689,
     "end_time": "2021-10-12T23:25:55.175927",
     "exception": false,
     "start_time": "2021-10-12T23:25:55.086238",
     "status": "completed"
    },
    "tags": []
   },
   "source": [
    "### If you liked the notebook, please upvote for it!"
   ]
  }
 ],
 "metadata": {
  "kernelspec": {
   "display_name": "Python 3",
   "language": "python",
   "name": "python3"
  },
  "language_info": {
   "codemirror_mode": {
    "name": "ipython",
    "version": 3
   },
   "file_extension": ".py",
   "mimetype": "text/x-python",
   "name": "python",
   "nbconvert_exporter": "python",
   "pygments_lexer": "ipython3",
   "version": "3.7.10"
  },
  "papermill": {
   "default_parameters": {},
   "duration": 39.156868,
   "end_time": "2021-10-12T23:25:57.210010",
   "environment_variables": {},
   "exception": null,
   "input_path": "__notebook__.ipynb",
   "output_path": "__notebook__.ipynb",
   "parameters": {},
   "start_time": "2021-10-12T23:25:18.053142",
   "version": "2.3.3"
  }
 },
 "nbformat": 4,
 "nbformat_minor": 5
}
